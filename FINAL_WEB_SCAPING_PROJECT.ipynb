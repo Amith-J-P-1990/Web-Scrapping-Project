{
 "cells": [
  {
   "cell_type": "markdown",
   "metadata": {},
   "source": [
    "# Scraping ICC World Players Details using Python\n",
    "\n",
    "Data Source : [ICC- World Player Ranking](https://www.icc-cricket.com/rankings/mens/player-rankings/test/batting)\n",
    "![WEB SCRAPPING](https://i.imgur.com/xwRTlwz.png)"
   ]
  },
  {
   "cell_type": "markdown",
   "metadata": {},
   "source": [
    "![image1](https://i.imgur.com/aUb4I5h.png)"
   ]
  },
  {
   "cell_type": "markdown",
   "metadata": {},
   "source": [
    "## Web Scraping \n",
    "\n",
    ">### Q. What is Web Scraping?\n",
    "\n",
    "Web scraping is the process of extracting and parsing data from websites in an automated fashion using a computer program. It's a useful technique for creating datasets for research and learning. While web scraping often involves parsing and processing HTML documents.\n",
    "\n",
    "In general, web data extraction is used by people and businesses who want to make use of the vast amount of publicly available web data to make smarter decisions.\n",
    "\n",
    ">### Q. How does Web Scrapping work?\n",
    "\n",
    "- STEP 1: Identify the website to be scrapped.\n",
    "- STEP 2: Find URLs of the pages where you want to extract the data.\n",
    "- STEP 3: Make a request to these URLs to get the HTML of the page.\n",
    "- STEP 4: Use locators to find the data in the HTML \n",
    "- STEP:5: Save the data in a JSON or CSV file or some other structured format as per your requirement\n",
    "\n",
    "![](https://i.imgur.com/b8DLXR4.png)"
   ]
  },
  {
   "cell_type": "code",
   "execution_count": 1,
   "metadata": {},
   "outputs": [],
   "source": [
    "!pip install jovian --upgrade --quiet\n",
    "import jovian"
   ]
  },
  {
   "cell_type": "code",
   "execution_count": 2,
   "metadata": {},
   "outputs": [
    {
     "data": {
      "application/javascript": [
       "window.require && require([\"base/js/namespace\"],function(Jupyter){Jupyter.notebook.save_checkpoint()})"
      ],
      "text/plain": [
       "<IPython.core.display.Javascript object>"
      ]
     },
     "metadata": {},
     "output_type": "display_data"
    },
    {
     "name": "stdout",
     "output_type": "stream",
     "text": [
      "[jovian] Updating notebook \"jp-amith/web-scaping-project-final\" on https://jovian.ai\u001b[0m\n",
      "[jovian] Committed successfully! https://jovian.ai/jp-amith/web-scaping-project-final\u001b[0m\n"
     ]
    },
    {
     "data": {
      "text/plain": [
       "'https://jovian.ai/jp-amith/web-scaping-project-final'"
      ]
     },
     "execution_count": 2,
     "metadata": {},
     "output_type": "execute_result"
    }
   ],
   "source": [
    "jovian.commit(project=\"web-scaping-project-final\")"
   ]
  },
  {
   "cell_type": "markdown",
   "metadata": {},
   "source": [
    "## About MRF Tyres ICC Player Ranking\n",
    "\n",
    "The MRF Tyres ICC Player Rankings is a table where international cricket players performances are ranked using a points based system which is worked out by doing a series of calculations leading to a sophisticated moving average. \n",
    "\n",
    "Players are rated on a scale of 0 to 1000 points. If a player’s performance is improving on his past record, his points increase; if his performance is declining his points will go down. \n",
    "\n",
    "The value of each player’s performance within a match is calculated using an algorithm, a series of calculations (all pre-programmed) based on various circumstances in the match. There is no human intervention in this calculation process, and no subjective assessment is made. \n",
    "There are slightly different factors for each of the different formats of the game.\n",
    "\n",
    "![](https://i.imgur.com/7qU5l4K.png)\n"
   ]
  },
  {
   "cell_type": "markdown",
   "metadata": {},
   "source": [
    "\n",
    "## Project Idea\n",
    "\n",
    "- In this Project my goal is to parse through the International Mens Cricket Players Batting-Ranking and Player Information from ICC official site.\n",
    "\n",
    "\n",
    "- I will retrieve information from the page [TEST Men's Test Batting Rankings](https://www.icc-cricket.com/rankings/mens/player-rankings/test/batting) using **web scraping**. This given world Ranking of players and information of the player"
   ]
  },
  {
   "cell_type": "markdown",
   "metadata": {},
   "source": [
    "## Project Goal\n",
    "\n",
    "The project goal is to build a web scraper that withdraws all desirable information and assemble them into a single CSV. The format of the output CSV file is shown below:\n",
    "\n",
    "|#|Player Name|Ranking|Nation|Rating|Career Best|Date of Birth||Role||style|\n",
    "|-|----------|-------|------------|------------|------|------|----|--|----|---|\n",
    "|1|Joe Root| 1 |ENG|923|923 v India,05/07/2022|30 December 1990||Batter||Right Hand|\n",
    "|2|Marnus Labuschagne| 2 |AUS|885|936 v Pakistan, 08/03/2022|22 June 1994||Batter||Right Hand|\n",
    "|100|Mitchell Starc | ......| ..|....|..|....|...|...|..|..."
   ]
  },
  {
   "cell_type": "markdown",
   "metadata": {},
   "source": [
    "## PROJECT OUTLINE"
   ]
  },
  {
   "cell_type": "markdown",
   "metadata": {},
   "source": [
    "Here is an outline of the steps we'll follow :\n",
    "\n",
    "1. First Download the webpage using the python lybrary `requests`\n",
    "\n",
    "2. By using `BeautifulSoup` library parse the HTML source code and then extract the required set of data\n",
    "\n",
    "3. Building the scraper components\n",
    "\n",
    "4. Extracted information to be compiled into Python list and dictionaries\n",
    "\n",
    "5. Python dictionaries to convert as `Pandas DataFrames\n",
    "`\n",
    "5. Finally the information will be written into a `CSV file`\n",
    "\n",
    "7. Future scope of the work and References"
   ]
  },
  {
   "cell_type": "markdown",
   "metadata": {},
   "source": [
    ">## Packages Used:\n",
    ">1. `Requests` — For downloading the HTML code from the ICC URL\n",
    ">2. `BeautifulSoup4` — For parsing and extracting data from the HTML string\n",
    ">3. `Pandas` — to gather the required set of data into a dataframe for the Data Analysis and other process"
   ]
  },
  {
   "cell_type": "markdown",
   "metadata": {},
   "source": [
    "### How to run the code\n",
    "\n",
    "This tutorial is an executable [Jupyter notebook](https://jupyter.org) hosted on [Jovian](https://www.jovian.ai). You can _run_ this tutorial and experiment with the code examples in a couple of ways: *using free online resources* (recommended) or *on your computer*.\n",
    "\n",
    "#### Option 1: Running using free online resources (1-click, recommended)\n",
    "\n",
    "The easiest way to start executing the code is to click the **Run** button at the top of this page and select **Run on Binder**. You can also select \"Run on Colab\" or \"Run on Kaggle\", but you'll need to create an account on [Google Colab](https://colab.research.google.com) or [Kaggle](https://kaggle.com) to use these platforms.\n",
    "\n",
    "\n",
    "#### Option 2: Running on your computer locally\n",
    "\n",
    "To run the code on your computer locally, you'll need to set up [Python](https://www.python.org), download the notebook and install the required libraries. We recommend using the [Conda](https://docs.conda.io/projects/conda/en/latest/user-guide/install/) distribution of Python. Click the **Run** button at the top of this page, select the **Run Locally** option, and follow the instructions.\n",
    "\n",
    ">  **Jupyter Notebooks**: This tutorial is a [Jupyter notebook](https://jupyter.org) - a document made of _cells_. Each cell can contain code written in Python or explanations in plain English. You can execute code cells and view the results, e.g., numbers, messages, graphs, tables, files, etc., instantly within the notebook. Jupyter is a powerful platform for experimentation and analysis. Don't be afraid to mess around with the code & break things - you'll learn a lot by encountering and fixing errors. You can use the \"Kernel > Restart & Clear Output\" menu option to clear all outputs and start again from the top.\n",
    "\n",
    "\n",
    "> Please follow this guide to attach image screenshots in the markdown: https://jovian.ai/learn/zero-to-data-analyst-bootcamp/knowledge/add-markdown-image-link-95"
   ]
  },
  {
   "cell_type": "markdown",
   "metadata": {},
   "source": [
    "## Let us start  : \n",
    "\n",
    "\n",
    ">Note : We will use the `Jovian` library and its `commit()` function throughout the code to save our progress as we move along."
   ]
  },
  {
   "cell_type": "code",
   "execution_count": 3,
   "metadata": {},
   "outputs": [
    {
     "data": {
      "application/javascript": [
       "window.require && require([\"base/js/namespace\"],function(Jupyter){Jupyter.notebook.save_checkpoint()})"
      ],
      "text/plain": [
       "<IPython.core.display.Javascript object>"
      ]
     },
     "metadata": {},
     "output_type": "display_data"
    },
    {
     "name": "stdout",
     "output_type": "stream",
     "text": [
      "[jovian] Updating notebook \"jp-amith/web-scraping-project-final\" on https://jovian.ai\u001b[0m\n",
      "[jovian] Committed successfully! https://jovian.ai/jp-amith/web-scraping-project-final\u001b[0m\n"
     ]
    },
    {
     "data": {
      "text/plain": [
       "'https://jovian.ai/jp-amith/web-scraping-project-final'"
      ]
     },
     "execution_count": 3,
     "metadata": {},
     "output_type": "execute_result"
    }
   ],
   "source": [
    "!pip install jovian --upgrade --quiet ## Will undergo updates and '--quite' will avoid the loading messages \n",
    "import jovian\n",
    "# Execute this to save new versions of the notebook\n",
    "jovian.commit(project=\"final-web-scraping-project\")"
   ]
  },
  {
   "cell_type": "markdown",
   "metadata": {},
   "source": [
    "## Using the Requests Library to download the web pages \n",
    "\n",
    ">### **What is `requests`**?\n",
    "\n",
    "\n",
    ">Requests is a Python HTTP library that allows us to send HTTP requests to servers of websites, instead of using browsers to communicate the web.\n",
    "\n",
    ">We use `pip`, a package-management system, to install and manage softwares. Since the platform we selected is **Binder**, we would have to type a line of code `!pip install` to install `requests`. You will see lots codes of `!pip` when installing other packages.\n",
    "\n",
    ">When we attempt to use some prewritten functions from a certain library, we would use the `import` statement. e.g. When we would have to type `import requests` after installation, we are able to use any function from `requests` library.\n",
    "\n",
    "\n",
    "\n",
    "![](https://i.imgur.com/V79Bwlm.png)"
   ]
  },
  {
   "cell_type": "code",
   "execution_count": 4,
   "metadata": {},
   "outputs": [],
   "source": [
    "!pip install requests --quiet --upgrade\n",
    "import requests"
   ]
  },
  {
   "cell_type": "markdown",
   "metadata": {},
   "source": [
    "#### *requests.get()*\n",
    "\n",
    "In order to **download a web page**, we use `requests.get()` to **send the HTTP request** to the **ICC server** and what the function returns is a **response object**, which is **the HTTP response**. "
   ]
  },
  {
   "cell_type": "code",
   "execution_count": 5,
   "metadata": {},
   "outputs": [],
   "source": [
    "topic_url='https://www.icc-cricket.com/rankings/mens/player-rankings/test/batting'\n",
    "response= requests.get(topic_url)"
   ]
  },
  {
   "cell_type": "markdown",
   "metadata": {},
   "source": [
    "## Status Code\n",
    "\n",
    "- We have to check if we succesfully send the HTTP request and get a HTTP response back on purpose. This is because we're NOT using browsers, because of which we can't get the feedback directly if we didn't send HTTP requests successfully.\n",
    "\n",
    "- If the request was successful, response.status_code is set to a value between 200 and 299.\n",
    "\n",
    "- In general, the method to check out if the server sended a HTTP response back is the status code. In requests library, requests.get returns a response object, which containing the page contents and the information about status code indicating if the HTTP request was successful. Learn more about HTTP status codes here: https://developer.mozilla.org/en-US/docs/Web/HTTP/Status."
   ]
  },
  {
   "cell_type": "code",
   "execution_count": 6,
   "metadata": {},
   "outputs": [
    {
     "data": {
      "text/plain": [
       "200"
      ]
     },
     "execution_count": 6,
     "metadata": {},
     "output_type": "execute_result"
    }
   ],
   "source": [
    "response.status_code # Checking the response code to know that the request was successful, should be between 200 and 299."
   ]
  },
  {
   "cell_type": "markdown",
   "metadata": {},
   "source": [
    "#### Here we can use `response.text` to retrive the HTML document and also by using `len()`  function we can check the lenth of the text"
   ]
  },
  {
   "cell_type": "code",
   "execution_count": 7,
   "metadata": {},
   "outputs": [
    {
     "data": {
      "text/plain": [
       "266250"
      ]
     },
     "execution_count": 7,
     "metadata": {},
     "output_type": "execute_result"
    }
   ],
   "source": [
    "page_contents=response.text\n",
    "len(response.text)"
   ]
  },
  {
   "cell_type": "markdown",
   "metadata": {},
   "source": [
    "#### Great!! We have 268232 characters in the the HTML file that we have just downloaded it now in a second!!"
   ]
  },
  {
   "cell_type": "code",
   "execution_count": 8,
   "metadata": {
    "scrolled": true
   },
   "outputs": [
    {
     "data": {
      "text/plain": [
       "'<!DOCTYPE html>\\n<html lang=\"en\">\\n<head>\\n\\n    <meta name=\"twitter:title\" content=\"ICC Men\\'s Test Batting| Player Rankings | ICC\"/>\\n<meta property=\"og:type\" content=\"website\"/>\\n<meta property=\"twitter:card\" content=\"summary_large_image\"/>\\n<meta name=\"description\" content=\"Official ICC Cricket website - live matches, scores, news, highlights, commentary, rankings, videos and fixtures from the International Cricket Council.\"/>\\n<meta property=\"twitter:site\" content=\"@icc\"/>\\n<meta name=\"twitter:description\" content=\"Official ICC Cricket website - live matches, scores, news, highlights, commentary, rankings, videos and fixtures from the International Cricket Council.\"/>\\n<meta name=\"twitter:image\" content=\"https://www.icc-cricket.com/resources/ver/i/elements/default-thumbnail.jpg\"/>\\n<meta property=\"og:title\" content=\"ICC Men\\'s Test Batting| Player Rankings | ICC\"/>\\n<meta property=\"og:image\" content=\"https://www.icc-cricket.com/resources/ver/i/elements/default-thumbnail.jpg\"/>\\n<title>ICC Men\\'s '"
      ]
     },
     "execution_count": 8,
     "metadata": {},
     "output_type": "execute_result"
    }
   ],
   "source": [
    "response.text[:1000] "
   ]
  },
  {
   "cell_type": "markdown",
   "metadata": {},
   "source": [
    "- What we see above is the source code of the web page. It is written in a language called HTML. \n",
    "- It defines and display the content and structure of the web page by the help of the browsers like Chrome"
   ]
  },
  {
   "cell_type": "code",
   "execution_count": 9,
   "metadata": {},
   "outputs": [],
   "source": [
    "with open ('icc_mens_batting_ranking.html', 'w') as f: f.write(page_contents)\n",
    "    \n",
    "#Writing the html page to a file locally in the given file name"
   ]
  },
  {
   "cell_type": "markdown",
   "metadata": {},
   "source": [
    "- Here, we have saved the text that we got into a `HTML` file using with `open` statement.\n",
    "\n",
    "- Now, HTML file is created with the given name `icc_mens_batting_ranking.html`\n",
    "\n",
    "- By using the Jupyter notebook we can open the HTML file using the following path.\n",
    "File -> Open -> `icc_mens_batting_ranking.html`"
   ]
  },
  {
   "cell_type": "markdown",
   "metadata": {},
   "source": [
    "![](https://i.imgur.com/7q6MKCG.png)\n",
    "\n"
   ]
  },
  {
   "cell_type": "code",
   "execution_count": 10,
   "metadata": {},
   "outputs": [
    {
     "data": {
      "application/javascript": [
       "window.require && require([\"base/js/namespace\"],function(Jupyter){Jupyter.notebook.save_checkpoint()})"
      ],
      "text/plain": [
       "<IPython.core.display.Javascript object>"
      ]
     },
     "metadata": {},
     "output_type": "display_data"
    },
    {
     "name": "stdout",
     "output_type": "stream",
     "text": [
      "[jovian] Updating notebook \"jp-amith/web-scraping-project-final\" on https://jovian.ai\u001b[0m\n",
      "[jovian] Committed successfully! https://jovian.ai/jp-amith/web-scraping-project-final\u001b[0m\n"
     ]
    },
    {
     "data": {
      "text/plain": [
       "'https://jovian.ai/jp-amith/web-scraping-project-final'"
      ]
     },
     "execution_count": 10,
     "metadata": {},
     "output_type": "execute_result"
    }
   ],
   "source": [
    "jovian.commit() #Saving the work to jovian cloud "
   ]
  },
  {
   "cell_type": "markdown",
   "metadata": {},
   "source": [
    "## Using `BeatifulSoup` to parse and extracted information from the web page"
   ]
  },
  {
   "cell_type": "markdown",
   "metadata": {},
   "source": [
    "![](https://i.imgur.com/Ld1s7JA.png)\n",
    "\n",
    ">### What is Beautiful Soup?\n",
    "\n",
    "- Beautiful Soup is **a Python package** for **parsing HTML and XML documents**. Beautiful Soup enables us to get data out of sequences of characters. It creates a parse tree for parsed pages that can be used to extract data from HTML. It's a handy tool when it comes to web scraping. You can read more on their documentation site. https://www.crummy.com/software/BeautifulSoup/bs4/doc/#getting-help\n",
    "\n",
    "\n",
    "\n",
    "- To extract information from the HTML source code of a webpage programmatically, we can use the Beautiful Soup library. Let's install the library and import **the BeautifulSoup class** from **the bs4 module.**\n",
    "\n"
   ]
  },
  {
   "cell_type": "code",
   "execution_count": 11,
   "metadata": {},
   "outputs": [],
   "source": [
    "!pip install beautifulsoup4 --quiet --upgrade\n",
    "\n",
    "from bs4 import BeautifulSoup as bs\n",
    "doc = bs(page_contents, 'html.parser') #Now 'doc' contains entire html text in parsed format"
   ]
  },
  {
   "cell_type": "markdown",
   "metadata": {},
   "source": [
    "### Inspecting the HTML source code of a web page\n",
    "\n",
    "\n",
    "![](https://i.imgur.com/309Pcy9.png)\n",
    "\n",
    "\n",
    "#### What is `HTML` ?\n",
    "\n",
    "- The HyperText Markup Language, or HTML is the standard markup language for documents designed to be displayed in a web browser. \n",
    "\n",
    "- It can be assisted by technologies such as Cascading Style Sheets and scripting languages such as JavaScript.\n",
    "\n",
    "- In Beautiful Soup library, we can specify html.parser to ask Python to read components of the page, instead of reading it as a long string."
   ]
  },
  {
   "cell_type": "markdown",
   "metadata": {},
   "source": [
    "## **HTML tag comprises of three parts:**\n",
    "\n",
    "1. **Name**: (`html`, `head`, `body`, `div`, etc.) Indicates what the tag represents and how a browser should interpret the information inside it.\n",
    "2. **Attributes**: (`href`, `target`, `class`, `id`, etc.) Properties of tag used by the browser to customize how a tag is displayed and decide what happens on user interactions.\n",
    "3. **Children**: A tag can contain some text or other tags or both between the opening and closing segments, e.g., `<div>Some content</div>`.\n",
    "\n",
    "\n",
    "## Common Tags and Attributes\n",
    "\n",
    "Following are some of the most commonly used HTML tags:\n",
    "\n",
    "* `html`\n",
    "* `head`\n",
    "* `title`\n",
    "* `body`\n",
    "* `div`\n",
    "* `span`\n",
    "* `h1` to `h6`\n",
    "* `p`\n",
    "* `img`\n",
    "* `ul`, `ol` and `li`\n",
    "* `table`, `tr`, `th` and `td`\n",
    "* `style`\n",
    "* ...\n",
    "\n",
    "Each tag supports several attributes. Following are some common attributes used to modify the behavior of tags:\n",
    "\n",
    "* `id`\n",
    "* `style`\n",
    "* `class`\n",
    "* `href` (used with `<a>`)\n",
    "* `src` (used with `<img>`)\n"
   ]
  },
  {
   "cell_type": "markdown",
   "metadata": {},
   "source": [
    "`What we can do with **a BeautifulSoup object** is to get **a specifc types of a tag in HTML** by calling the name of a tag, as shown in code cell below.`\n",
    "\n",
    "Here, we use the `find()` function of BeautifulSoup to find the first `<title>` tag in the HTML document and display its content"
   ]
  },
  {
   "cell_type": "code",
   "execution_count": 12,
   "metadata": {},
   "outputs": [
    {
     "data": {
      "text/plain": [
       "bs4.BeautifulSoup"
      ]
     },
     "execution_count": 12,
     "metadata": {},
     "output_type": "execute_result"
    }
   ],
   "source": [
    "type(doc)"
   ]
  },
  {
   "cell_type": "code",
   "execution_count": 13,
   "metadata": {
    "scrolled": true
   },
   "outputs": [
    {
     "data": {
      "text/plain": [
       "\"ICC Men's Test Batting| Player Rankings | ICC\""
      ]
     },
     "execution_count": 13,
     "metadata": {},
     "output_type": "execute_result"
    }
   ],
   "source": [
    "title = doc.find('title')\n",
    "title.text"
   ]
  },
  {
   "cell_type": "code",
   "execution_count": 14,
   "metadata": {
    "scrolled": true
   },
   "outputs": [
    {
     "data": {
      "text/plain": [
       "bs4.element.Tag"
      ]
     },
     "execution_count": 14,
     "metadata": {},
     "output_type": "execute_result"
    }
   ],
   "source": [
    "type(title)"
   ]
  },
  {
   "cell_type": "markdown",
   "metadata": {},
   "source": [
    "## Inspecting HTML in the Browser\n",
    "\n",
    ">To view the **source code** of any webpage right within **your browser**, you can **right click** anywhere on a page and **select** the **\"Inspect\"** option. You access the **\"Developer Tools\"** mode, where you can see the source code as **a tree**. You can expand and collapse various nodes and find the source code for a specific portion of the page.\n",
    "\n",
    "![](https://i.imgur.com/jnKM8jO.png)\n",
    "\n",
    "\n",
    "As shown in the photo above, I've inspected one of the Player Names to display how the entire content was presented. \n",
    "I found out that each `player` was present inside the `<a>` tag. Since it does not have any specific class, or other attribute, so I have to check for the desired `<a>` tags among all the `<a>` tags present on the page to get the required information alone.\n",
    "\n",
    "Since I've pulled a single page and return to a BeautifulSoup object, we can start to use some function from Beautiful Soup library to withdraw the piece of information we want."
   ]
  },
  {
   "cell_type": "markdown",
   "metadata": {},
   "source": [
    "\n",
    "### Now we will use `BeautifulSoup` to extract the `Name` , `Ranking`, `Nation`,`Rating` and `Career Best` from the HTML Page "
   ]
  },
  {
   "cell_type": "code",
   "execution_count": 15,
   "metadata": {},
   "outputs": [],
   "source": [
    "maindoc=doc.find_all('tr') "
   ]
  },
  {
   "cell_type": "code",
   "execution_count": 16,
   "metadata": {},
   "outputs": [
    {
     "data": {
      "text/plain": [
       "101"
      ]
     },
     "execution_count": 16,
     "metadata": {},
     "output_type": "execute_result"
    }
   ],
   "source": [
    "len(maindoc)"
   ]
  },
  {
   "cell_type": "code",
   "execution_count": 17,
   "metadata": {},
   "outputs": [
    {
     "data": {
      "text/plain": [
       "[<tr class=\"table-head\">\n",
       " <th class=\"table-head__cell u-text-right\">Pos</th>\n",
       " <th class=\"table-head__cell\">Player</th>\n",
       " <th class=\"table-head__cell\">Team</th>\n",
       " <th class=\"table-head__cell table-head__cell--rating\">Rating</th>\n",
       " <th class=\"table-head__cell u-text-right u-hide-phablet\">Career Best Rating</th>\n",
       " </tr>]"
      ]
     },
     "execution_count": 17,
     "metadata": {},
     "output_type": "execute_result"
    }
   ],
   "source": [
    "maindoc[:1]"
   ]
  },
  {
   "cell_type": "code",
   "execution_count": 18,
   "metadata": {},
   "outputs": [],
   "source": [
    "maindoc = doc.find_all(\"tr\")"
   ]
  },
  {
   "cell_type": "code",
   "execution_count": 19,
   "metadata": {},
   "outputs": [],
   "source": [
    "first_link=doc.tr"
   ]
  },
  {
   "cell_type": "code",
   "execution_count": 20,
   "metadata": {},
   "outputs": [
    {
     "data": {
      "text/plain": [
       "['table-head']"
      ]
     },
     "execution_count": 20,
     "metadata": {},
     "output_type": "execute_result"
    }
   ],
   "source": [
    "first_link['class']"
   ]
  },
  {
   "cell_type": "code",
   "execution_count": 21,
   "metadata": {},
   "outputs": [
    {
     "data": {
      "text/plain": [
       "{'class': ['table-head']}"
      ]
     },
     "execution_count": 21,
     "metadata": {},
     "output_type": "execute_result"
    }
   ],
   "source": [
    "first_link.attrs"
   ]
  },
  {
   "cell_type": "markdown",
   "metadata": {},
   "source": [
    " ### Player Name "
   ]
  },
  {
   "cell_type": "code",
   "execution_count": 22,
   "metadata": {},
   "outputs": [],
   "source": [
    "ranking_rank1=doc.find_all(class_=\"rankings-block__pos-number\")\n",
    " # Rank1 player name taken seperately "
   ]
  },
  {
   "cell_type": "code",
   "execution_count": 23,
   "metadata": {},
   "outputs": [
    {
     "data": {
      "text/plain": [
       "['1']"
      ]
     },
     "execution_count": 23,
     "metadata": {},
     "output_type": "execute_result"
    }
   ],
   "source": [
    "ranking_rank1\n",
    "Rank=[]\n",
    "Rank.append(ranking_rank1[0].text.strip())\n",
    "Rank"
   ]
  },
  {
   "cell_type": "code",
   "execution_count": 24,
   "metadata": {},
   "outputs": [],
   "source": [
    "ranking=doc.find_all(class_=\"rankings-table__pos-number\")"
   ]
  },
  {
   "cell_type": "code",
   "execution_count": 25,
   "metadata": {
    "code_folding": []
   },
   "outputs": [],
   "source": [
    "def total_players(ranking):\n",
    "    for i in range(len(ranking)):\n",
    "      Rank.append(ranking[i].text.strip())\n",
    "    return len(Rank)"
   ]
  },
  {
   "cell_type": "code",
   "execution_count": 26,
   "metadata": {},
   "outputs": [
    {
     "data": {
      "text/plain": [
       "100"
      ]
     },
     "execution_count": 26,
     "metadata": {},
     "output_type": "execute_result"
    }
   ],
   "source": [
    "total_players(ranking)"
   ]
  },
  {
   "cell_type": "code",
   "execution_count": 27,
   "metadata": {},
   "outputs": [],
   "source": [
    "player_name = doc.find_all(class_=\"table-body__cell rankings-table__name name\")"
   ]
  },
  {
   "cell_type": "code",
   "execution_count": 28,
   "metadata": {
    "scrolled": true
   },
   "outputs": [
    {
     "data": {
      "text/plain": [
       "99"
      ]
     },
     "execution_count": 28,
     "metadata": {},
     "output_type": "execute_result"
    }
   ],
   "source": [
    "len(player_name)"
   ]
  },
  {
   "cell_type": "code",
   "execution_count": 29,
   "metadata": {
    "scrolled": true
   },
   "outputs": [
    {
     "data": {
      "text/plain": [
       "[<td class=\"table-body__cell rankings-table__name name\">\n",
       " <a href=\"/rankings/mens/player-rankings/4029\">Marnus Labuschagne</a>\n",
       " </td>,\n",
       " <td class=\"table-body__cell rankings-table__name name\">\n",
       " <a href=\"/rankings/mens/player-rankings/2759\">Babar Azam</a>\n",
       " </td>,\n",
       " <td class=\"table-body__cell rankings-table__name name\">\n",
       " <a href=\"/rankings/mens/player-rankings/271\">Steve Smith</a>\n",
       " </td>,\n",
       " <td class=\"table-body__cell rankings-table__name name\">\n",
       " <a href=\"/rankings/mens/player-rankings/2972\">Rishabh Pant</a>\n",
       " </td>,\n",
       " <td class=\"table-body__cell rankings-table__name name\">\n",
       " <a href=\"/rankings/mens/player-rankings/440\">Kane Williamson</a>\n",
       " </td>,\n",
       " <td class=\"table-body__cell rankings-table__name name\">\n",
       " <a href=\"/rankings/mens/player-rankings/948\">Usman Khawaja</a>\n",
       " </td>,\n",
       " <td class=\"table-body__cell rankings-table__name name\">\n",
       " <a href=\"/rankings/mens/player-rankings/954\">Dimuth Karunaratne</a>\n",
       " </td>,\n",
       " <td class=\"table-body__cell rankings-table__name name\">\n",
       " <a href=\"/rankings/mens/player-rankings/107\">Rohit Sharma</a>\n",
       " </td>,\n",
       " <td class=\"table-body__cell rankings-table__name name\">\n",
       " <a href=\"/rankings/mens/player-rankings/506\">Jonny Bairstow</a>\n",
       " </td>,\n",
       " <td class=\"table-body__cell rankings-table__name name\">\n",
       " <a href=\"/rankings/mens/player-rankings/3642\">Daryl Mitchell</a>\n",
       " </td>,\n",
       " <td class=\"table-body__cell rankings-table__name name\">\n",
       " <a href=\"/rankings/mens/player-rankings/164\">Virat Kohli</a>\n",
       " </td>,\n",
       " <td class=\"table-body__cell rankings-table__name name\">\n",
       " <a href=\"/rankings/mens/player-rankings/652\">Dean Elgar</a>\n",
       " </td>,\n",
       " <td class=\"table-body__cell rankings-table__name name\">\n",
       " <a href=\"/rankings/mens/player-rankings/1596\">Litton Das</a>\n",
       " </td>,\n",
       " <td class=\"table-body__cell rankings-table__name name\">\n",
       " <a href=\"/rankings/mens/player-rankings/1020\">Travis Head</a>\n",
       " </td>,\n",
       " <td class=\"table-body__cell rankings-table__name name\">\n",
       " <a href=\"/rankings/mens/player-rankings/230\">Dinesh Chandimal</a>\n",
       " </td>,\n",
       " <td class=\"table-body__cell rankings-table__name name\">\n",
       " <a href=\"/rankings/mens/player-rankings/1201\">Mohammad Rizwan</a>\n",
       " </td>,\n",
       " <td class=\"table-body__cell rankings-table__name name\">\n",
       " <a href=\"/rankings/mens/player-rankings/170\">David Warner</a>\n",
       " </td>,\n",
       " <td class=\"table-body__cell rankings-table__name name\">\n",
       " <a href=\"/rankings/mens/player-rankings/491\">Mushfiqur Rahim</a>\n",
       " </td>,\n",
       " <td class=\"table-body__cell rankings-table__name name\">\n",
       " <a href=\"/rankings/mens/player-rankings/\">Abdullah Shafique</a>\n",
       " </td>,\n",
       " <td class=\"table-body__cell rankings-table__name name\">\n",
       " <a href=\"/rankings/mens/player-rankings/3743\">Tom Blundell</a>\n",
       " </td>,\n",
       " <td class=\"table-body__cell rankings-table__name name\">\n",
       " <a href=\"/rankings/mens/player-rankings/217\">Angelo Mathews</a>\n",
       " </td>,\n",
       " <td class=\"table-body__cell rankings-table__name name\">\n",
       " <a href=\"/rankings/mens/player-rankings/158\">Mayank Agarwal</a>\n",
       " </td>,\n",
       " <td class=\"table-body__cell rankings-table__name name\">\n",
       " <a href=\"/rankings/mens/player-rankings/985\">Azhar Ali</a>\n",
       " </td>,\n",
       " <td class=\"table-body__cell rankings-table__name name\">\n",
       " <a href=\"/rankings/mens/player-rankings/1140\">Tom Latham</a>\n",
       " </td>,\n",
       " <td class=\"table-body__cell rankings-table__name name\">\n",
       " <a href=\"/rankings/mens/player-rankings/156\">Cheteshwar Pujara</a>\n",
       " </td>,\n",
       " <td class=\"table-body__cell rankings-table__name name\">\n",
       " <a href=\"/rankings/mens/player-rankings/1154\">Ben Stokes</a>\n",
       " </td>,\n",
       " <td class=\"table-body__cell rankings-table__name name\">\n",
       " <a href=\"/rankings/mens/player-rankings/1460\">Kraigg Brathwaite</a>\n",
       " </td>,\n",
       " <td class=\"table-body__cell rankings-table__name name\">\n",
       " <a href=\"/rankings/mens/player-rankings/833\">Temba Bavuma</a>\n",
       " </td>,\n",
       " <td class=\"table-body__cell rankings-table__name name\">\n",
       " <a href=\"/rankings/mens/player-rankings/2890\">Henry Nicholls</a>\n",
       " </td>,\n",
       " <td class=\"table-body__cell rankings-table__name name\">\n",
       " <a href=\"/rankings/mens/player-rankings/5314\">Abid Ali</a>\n",
       " </td>,\n",
       " <td class=\"table-body__cell rankings-table__name name\">\n",
       " <a href=\"/rankings/mens/player-rankings/1102\">Sean Williams</a>\n",
       " </td>,\n",
       " <td class=\"table-body__cell rankings-table__name name\">\n",
       " <a href=\"/rankings/mens/player-rankings/820\">Colin de Grandhomme</a>\n",
       " </td>,\n",
       " <td class=\"table-body__cell rankings-table__name name\">\n",
       " <a href=\"/rankings/mens/player-rankings/\">Devon Conway</a>\n",
       " </td>,\n",
       " <td class=\"table-body__cell rankings-table__name name\">\n",
       " <a href=\"/rankings/mens/player-rankings/9\">Ravindra Jadeja</a>\n",
       " </td>,\n",
       " <td class=\"table-body__cell rankings-table__name name\">\n",
       " <a href=\"/rankings/mens/player-rankings/1563\">Shreyas Iyer</a>\n",
       " </td>,\n",
       " <td class=\"table-body__cell rankings-table__name name\">\n",
       " <a href=\"/rankings/mens/player-rankings/1844\">Jermaine Blackwood</a>\n",
       " </td>,\n",
       " <td class=\"table-body__cell rankings-table__name name\">\n",
       " <a href=\"/rankings/mens/player-rankings/135\">Ajinkya Rahane</a>\n",
       " </td>,\n",
       " <td class=\"table-body__cell rankings-table__name name\">\n",
       " <a href=\"/rankings/mens/player-rankings/\">Cameron Green</a>\n",
       " </td>,\n",
       " <td class=\"table-body__cell rankings-table__name name\">\n",
       " <a href=\"/rankings/mens/player-rankings/287\">Tamim Iqbal</a>\n",
       " </td>,\n",
       " <td class=\"table-body__cell rankings-table__name name\">\n",
       " <a href=\"/rankings/mens/player-rankings/1295\">Dhananjaya de Silva</a>\n",
       " </td>,\n",
       " <td class=\"table-body__cell rankings-table__name name\">\n",
       " <a href=\"/rankings/mens/player-rankings/201\">Shakib Al Hasan</a>\n",
       " </td>,\n",
       " <td class=\"table-body__cell rankings-table__name name\">\n",
       " <a href=\"/rankings/mens/player-rankings/1125\">Lokesh Rahul</a>\n",
       " </td>,\n",
       " <td class=\"table-body__cell rankings-table__name name\">\n",
       " <a href=\"/rankings/mens/player-rankings/\">Keegan Petersen</a>\n",
       " </td>,\n",
       " <td class=\"table-body__cell rankings-table__name name\">\n",
       " <a href=\"/rankings/mens/player-rankings/3636\">Ollie Pope</a>\n",
       " </td>,\n",
       " <td class=\"table-body__cell rankings-table__name name\">\n",
       " <a href=\"/rankings/mens/player-rankings/1667\">Aiden Markram</a>\n",
       " </td>,\n",
       " <td class=\"table-body__cell rankings-table__name name\">\n",
       " <a href=\"/rankings/mens/player-rankings/1277\">Rassie van der Dussen</a>\n",
       " </td>,\n",
       " <td class=\"table-body__cell rankings-table__name name\">\n",
       " <a href=\"/rankings/mens/player-rankings/874\">Fawad Alam</a>\n",
       " </td>,\n",
       " <td class=\"table-body__cell rankings-table__name name\">\n",
       " <a href=\"/rankings/mens/player-rankings/1847\">Niroshan Dickwella</a>\n",
       " </td>,\n",
       " <td class=\"table-body__cell rankings-table__name name\">\n",
       " <a href=\"/rankings/mens/player-rankings/1568\">Imam-ul-Haq</a>\n",
       " </td>,\n",
       " <td class=\"table-body__cell rankings-table__name name\">\n",
       " <a href=\"/rankings/mens/player-rankings/1129\">Sikandar Raza</a>\n",
       " </td>,\n",
       " <td class=\"table-body__cell rankings-table__name name\">\n",
       " <a href=\"/rankings/mens/player-rankings/\">Nkruma Bonner</a>\n",
       " </td>,\n",
       " <td class=\"table-body__cell rankings-table__name name\">\n",
       " <a href=\"/rankings/mens/player-rankings/1670\">Kusal Mendis</a>\n",
       " </td>,\n",
       " <td class=\"table-body__cell rankings-table__name name\">\n",
       " <a href=\"/rankings/mens/player-rankings/\">Kyle Mayers</a>\n",
       " </td>,\n",
       " <td class=\"table-body__cell rankings-table__name name\">\n",
       " <a href=\"/rankings/mens/player-rankings/3631\">Rory Burns</a>\n",
       " </td>,\n",
       " <td class=\"table-body__cell rankings-table__name name\">\n",
       " <a href=\"/rankings/mens/player-rankings/303\">Tim Paine</a>\n",
       " </td>,\n",
       " <td class=\"table-body__cell rankings-table__name name\">\n",
       " <a href=\"/rankings/mens/player-rankings/1117\">Hanuma Vihari</a>\n",
       " </td>,\n",
       " <td class=\"table-body__cell rankings-table__name name\">\n",
       " <a href=\"/rankings/mens/player-rankings/5569\">Oshada Fernando</a>\n",
       " </td>,\n",
       " <td class=\"table-body__cell rankings-table__name name\">\n",
       " <a href=\"/rankings/mens/player-rankings/3882\">Alex Carey</a>\n",
       " </td>,\n",
       " <td class=\"table-body__cell rankings-table__name name\">\n",
       " <a href=\"/rankings/mens/player-rankings/492\">Mahmudullah</a>\n",
       " </td>,\n",
       " <td class=\"table-body__cell rankings-table__name name\">\n",
       " <a href=\"/rankings/mens/player-rankings/4822\">Ibrahim Zadran</a>\n",
       " </td>,\n",
       " <td class=\"table-body__cell rankings-table__name name\">\n",
       " <a href=\"/rankings/mens/player-rankings/1075\">Jason Holder</a>\n",
       " </td>,\n",
       " <td class=\"table-body__cell rankings-table__name name\">\n",
       " <a href=\"/rankings/mens/player-rankings/\">Shubman Gill</a>\n",
       " </td>,\n",
       " <td class=\"table-body__cell rankings-table__name name\">\n",
       " <a href=\"/rankings/mens/player-rankings/509\">Jos Buttler</a>\n",
       " </td>,\n",
       " <td class=\"table-body__cell rankings-table__name name\">\n",
       " <a href=\"/rankings/mens/player-rankings/\">Sarel Erwee</a>\n",
       " </td>,\n",
       " <td class=\"table-body__cell rankings-table__name name\">\n",
       " <a href=\"/rankings/mens/player-rankings/4208\">Faheem Ashraf</a>\n",
       " </td>,\n",
       " <td class=\"table-body__cell rankings-table__name name\">\n",
       " <a href=\"/rankings/mens/player-rankings/1305\">Shan Masood</a>\n",
       " </td>,\n",
       " <td class=\"table-body__cell rankings-table__name name\">\n",
       " <a href=\"/rankings/mens/player-rankings/\">Pathum Nissanka</a>\n",
       " </td>,\n",
       " <td class=\"table-body__cell rankings-table__name name\">\n",
       " <a href=\"/rankings/mens/player-rankings/\">Joshua Da Silva</a>\n",
       " </td>,\n",
       " <td class=\"table-body__cell rankings-table__name name\">\n",
       " <a href=\"/rankings/mens/player-rankings/4332\">Zak Crawley</a>\n",
       " </td>,\n",
       " <td class=\"table-body__cell rankings-table__name name\">\n",
       " <a href=\"/rankings/mens/player-rankings/290\">Matthew Wade</a>\n",
       " </td>,\n",
       " <td class=\"table-body__cell rankings-table__name name\">\n",
       " <a href=\"/rankings/mens/player-rankings/1130\">Mominul Haque</a>\n",
       " </td>,\n",
       " <td class=\"table-body__cell rankings-table__name name\">\n",
       " <a href=\"/rankings/mens/player-rankings/912\">Joe Burns</a>\n",
       " </td>,\n",
       " <td class=\"table-body__cell rankings-table__name name\">\n",
       " <a href=\"/rankings/mens/player-rankings/1897\">Shane Dowrich</a>\n",
       " </td>,\n",
       " <td class=\"table-body__cell rankings-table__name name\">\n",
       " <a href=\"/rankings/mens/player-rankings/1738\">Kusal Perera</a>\n",
       " </td>,\n",
       " <td class=\"table-body__cell rankings-table__name name\">\n",
       " <a href=\"/rankings/mens/player-rankings/4997\">John Campbell</a>\n",
       " </td>,\n",
       " <td class=\"table-body__cell rankings-table__name name\">\n",
       " <a href=\"/rankings/mens/player-rankings/\">Kyle Verreynne</a>\n",
       " </td>,\n",
       " <td class=\"table-body__cell rankings-table__name name\">\n",
       " <a href=\"/rankings/mens/player-rankings/2973\">Washington Sundar</a>\n",
       " </td>,\n",
       " <td class=\"table-body__cell rankings-table__name name\">\n",
       " <a href=\"/rankings/mens/player-rankings/1095\">Regis Chakabva</a>\n",
       " </td>,\n",
       " <td class=\"table-body__cell rankings-table__name name\">\n",
       " <a href=\"/rankings/mens/player-rankings/502\">Lahiru Thirimanne</a>\n",
       " </td>,\n",
       " <td class=\"table-body__cell rankings-table__name name\">\n",
       " <a href=\"/rankings/mens/player-rankings/1551\">Dom Sibley</a>\n",
       " </td>,\n",
       " <td class=\"table-body__cell rankings-table__name name\">\n",
       " <a href=\"/rankings/mens/player-rankings/2895\">Nurul Hasan</a>\n",
       " </td>,\n",
       " <td class=\"table-body__cell rankings-table__name name\">\n",
       " <a href=\"/rankings/mens/player-rankings/\">Jamie Overton</a>\n",
       " </td>,\n",
       " <td class=\"table-body__cell rankings-table__name name\">\n",
       " <a href=\"/rankings/mens/player-rankings/\">Alex Lees</a>\n",
       " </td>,\n",
       " <td class=\"table-body__cell rankings-table__name name\">\n",
       " <a href=\"/rankings/mens/player-rankings/967\">Chris Woakes</a>\n",
       " </td>,\n",
       " <td class=\"table-body__cell rankings-table__name name\">\n",
       " <a href=\"/rankings/mens/player-rankings/3318\">Dawid Malan</a>\n",
       " </td>,\n",
       " <td class=\"table-body__cell rankings-table__name name\">\n",
       " <a href=\"/rankings/mens/player-rankings/8\">Ravichandran Ashwin</a>\n",
       " </td>,\n",
       " <td class=\"table-body__cell rankings-table__name name\">\n",
       " <a href=\"/rankings/mens/player-rankings/3901\">Marcus Harris</a>\n",
       " </td>,\n",
       " <td class=\"table-body__cell rankings-table__name name\">\n",
       " <a href=\"/rankings/mens/player-rankings/2884\">Hashmatullah Shaidi</a>\n",
       " </td>,\n",
       " <td class=\"table-body__cell rankings-table__name name\">\n",
       " <a href=\"/rankings/mens/player-rankings/\">Kamindu Mendis</a>\n",
       " </td>,\n",
       " <td class=\"table-body__cell rankings-table__name name\">\n",
       " <a href=\"/rankings/mens/player-rankings/1586\">Nazmul Shanto</a>\n",
       " </td>,\n",
       " <td class=\"table-body__cell rankings-table__name name\">\n",
       " <a href=\"/rankings/mens/player-rankings/\">Will Young</a>\n",
       " </td>,\n",
       " <td class=\"table-body__cell rankings-table__name name\">\n",
       " <a href=\"/rankings/mens/player-rankings/\">Dan Lawrence</a>\n",
       " </td>,\n",
       " <td class=\"table-body__cell rankings-table__name name\">\n",
       " <a href=\"/rankings/mens/player-rankings/2751\">Shai Hope</a>\n",
       " </td>,\n",
       " <td class=\"table-body__cell rankings-table__name name\">\n",
       " <a href=\"/rankings/mens/player-rankings/1250\">Rahmat Shah</a>\n",
       " </td>,\n",
       " <td class=\"table-body__cell rankings-table__name name\">\n",
       " <a href=\"/rankings/mens/player-rankings/855\">Haris Sohail</a>\n",
       " </td>,\n",
       " <td class=\"table-body__cell rankings-table__name name\">\n",
       " <a href=\"/rankings/mens/player-rankings/4998\">Shamarh Brooks</a>\n",
       " </td>,\n",
       " <td class=\"table-body__cell rankings-table__name name\">\n",
       " <a href=\"/rankings/mens/player-rankings/3321\">Roston Chase</a>\n",
       " </td>,\n",
       " <td class=\"table-body__cell rankings-table__name name\">\n",
       " <a href=\"/rankings/mens/player-rankings/490\">Mitchell Starc</a>\n",
       " </td>,\n",
       " <td class=\"table-body__cell rankings-table__name name\">\n",
       " <a href=\"/rankings/mens/player-rankings/184\">Darren Bravo</a>\n",
       " </td>]"
      ]
     },
     "execution_count": 29,
     "metadata": {},
     "output_type": "execute_result"
    }
   ],
   "source": [
    "player_name  # Displaying div class of Top 25 Ranked players from the top 100 rank list"
   ]
  },
  {
   "cell_type": "markdown",
   "metadata": {},
   "source": [
    "#### Collecting the required information alone by using `.append()`, `.strip()` and `.test` functions after declaring a list"
   ]
  },
  {
   "cell_type": "code",
   "execution_count": 30,
   "metadata": {},
   "outputs": [],
   "source": [
    "def Player_name(rank1_player_name,player_name):\n",
    "    Name=[]\n",
    "    Name.append(rank1_player_name[0].text.strip())\n",
    "    for i in range(len(player_name)):\n",
    "      Name.append(player_name[i].text.strip())\n",
    "    return Name"
   ]
  },
  {
   "cell_type": "code",
   "execution_count": 31,
   "metadata": {},
   "outputs": [
    {
     "data": {
      "text/plain": [
       "['Joe Root',\n",
       " 'Marnus Labuschagne',\n",
       " 'Babar Azam',\n",
       " 'Steve Smith',\n",
       " 'Rishabh Pant',\n",
       " 'Kane Williamson',\n",
       " 'Usman Khawaja',\n",
       " 'Dimuth Karunaratne',\n",
       " 'Rohit Sharma',\n",
       " 'Jonny Bairstow',\n",
       " 'Daryl Mitchell',\n",
       " 'Virat Kohli',\n",
       " 'Dean Elgar',\n",
       " 'Litton Das',\n",
       " 'Travis Head',\n",
       " 'Dinesh Chandimal',\n",
       " 'Mohammad Rizwan',\n",
       " 'David Warner',\n",
       " 'Mushfiqur Rahim',\n",
       " 'Abdullah Shafique',\n",
       " 'Tom Blundell',\n",
       " 'Angelo Mathews',\n",
       " 'Mayank Agarwal',\n",
       " 'Azhar Ali',\n",
       " 'Tom Latham',\n",
       " 'Cheteshwar Pujara',\n",
       " 'Ben Stokes',\n",
       " 'Kraigg Brathwaite',\n",
       " 'Temba Bavuma',\n",
       " 'Henry Nicholls',\n",
       " 'Abid Ali',\n",
       " 'Sean Williams',\n",
       " 'Colin de Grandhomme',\n",
       " 'Devon Conway',\n",
       " 'Ravindra Jadeja',\n",
       " 'Shreyas Iyer',\n",
       " 'Jermaine Blackwood',\n",
       " 'Ajinkya Rahane',\n",
       " 'Cameron Green',\n",
       " 'Tamim Iqbal',\n",
       " 'Dhananjaya de Silva',\n",
       " 'Shakib Al Hasan',\n",
       " 'Lokesh Rahul',\n",
       " 'Keegan Petersen',\n",
       " 'Ollie Pope',\n",
       " 'Aiden Markram',\n",
       " 'Rassie van der Dussen',\n",
       " 'Fawad Alam',\n",
       " 'Niroshan Dickwella',\n",
       " 'Imam-ul-Haq',\n",
       " 'Sikandar Raza',\n",
       " 'Nkruma Bonner',\n",
       " 'Kusal Mendis',\n",
       " 'Kyle Mayers',\n",
       " 'Rory Burns',\n",
       " 'Tim Paine',\n",
       " 'Hanuma Vihari',\n",
       " 'Oshada Fernando',\n",
       " 'Alex Carey',\n",
       " 'Mahmudullah',\n",
       " 'Ibrahim Zadran',\n",
       " 'Jason Holder',\n",
       " 'Shubman Gill',\n",
       " 'Jos Buttler',\n",
       " 'Sarel Erwee',\n",
       " 'Faheem Ashraf',\n",
       " 'Shan Masood',\n",
       " 'Pathum Nissanka',\n",
       " 'Joshua Da Silva',\n",
       " 'Zak Crawley',\n",
       " 'Matthew Wade',\n",
       " 'Mominul Haque',\n",
       " 'Joe Burns',\n",
       " 'Shane Dowrich',\n",
       " 'Kusal Perera',\n",
       " 'John Campbell',\n",
       " 'Kyle Verreynne',\n",
       " 'Washington Sundar',\n",
       " 'Regis Chakabva',\n",
       " 'Lahiru Thirimanne',\n",
       " 'Dom Sibley',\n",
       " 'Nurul Hasan',\n",
       " 'Jamie Overton',\n",
       " 'Alex Lees',\n",
       " 'Chris Woakes',\n",
       " 'Dawid Malan',\n",
       " 'Ravichandran Ashwin',\n",
       " 'Marcus Harris',\n",
       " 'Hashmatullah Shaidi',\n",
       " 'Kamindu Mendis',\n",
       " 'Nazmul Shanto',\n",
       " 'Will Young',\n",
       " 'Dan Lawrence',\n",
       " 'Shai Hope',\n",
       " 'Rahmat Shah',\n",
       " 'Haris Sohail',\n",
       " 'Shamarh Brooks',\n",
       " 'Roston Chase',\n",
       " 'Mitchell Starc',\n",
       " 'Darren Bravo']"
      ]
     },
     "execution_count": 31,
     "metadata": {},
     "output_type": "execute_result"
    }
   ],
   "source": [
    "rank1_player_name=doc.find_all(class_=\"rankings-block__banner--name-large\")\n",
    "player_name = doc.find_all(class_=\"table-body__cell rankings-table__name name\")\n",
    "\n",
    "Player_name(rank1_player_name,player_name)"
   ]
  },
  {
   "cell_type": "markdown",
   "metadata": {},
   "source": [
    "- As the Name of Player is directly wriiten as the text of 'a' , we could directly access the same using the find_all() function of the BeautifulSoup object, i.e. doc here.\n",
    "\n",
    "- But, for the Player Name we will have to access one of the attributes of the 'a' tag, i.e. href which contains our desired text."
   ]
  },
  {
   "cell_type": "markdown",
   "metadata": {},
   "source": [
    "#### Player Ranking"
   ]
  },
  {
   "cell_type": "code",
   "execution_count": 32,
   "metadata": {},
   "outputs": [],
   "source": [
    "def Player_ranking(ranking_rank1,ranking):\n",
    "    Rank=[]\n",
    "    Rank.append(ranking_rank1[0].text.strip())\n",
    "    for i in range(len(ranking)):\n",
    "      Rank.append(ranking[i].text.strip())\n",
    "    return Rank"
   ]
  },
  {
   "cell_type": "code",
   "execution_count": 33,
   "metadata": {},
   "outputs": [
    {
     "data": {
      "text/plain": [
       "['1',\n",
       " '2',\n",
       " '3',\n",
       " '4',\n",
       " '5',\n",
       " '6',\n",
       " '7',\n",
       " '8',\n",
       " '9',\n",
       " '10',\n",
       " '11',\n",
       " '12',\n",
       " '13',\n",
       " '14',\n",
       " '15',\n",
       " '16',\n",
       " '17',\n",
       " '18',\n",
       " '19',\n",
       " '20',\n",
       " '21',\n",
       " '22',\n",
       " '23',\n",
       " '24',\n",
       " '25',\n",
       " '26',\n",
       " '27',\n",
       " '28',\n",
       " '29',\n",
       " '30',\n",
       " '31',\n",
       " '32',\n",
       " '33',\n",
       " '34',\n",
       " '35',\n",
       " '36',\n",
       " '37',\n",
       " '38',\n",
       " '39',\n",
       " '40',\n",
       " '41',\n",
       " '42',\n",
       " '43',\n",
       " '44',\n",
       " '45',\n",
       " '46',\n",
       " '47',\n",
       " '48',\n",
       " '49',\n",
       " '50',\n",
       " '51',\n",
       " '52',\n",
       " '53',\n",
       " '54',\n",
       " '55',\n",
       " '56',\n",
       " '57',\n",
       " '58',\n",
       " '59',\n",
       " '60',\n",
       " '61',\n",
       " '62',\n",
       " '63',\n",
       " '64',\n",
       " '65',\n",
       " '66',\n",
       " '67',\n",
       " '68',\n",
       " '69',\n",
       " '70',\n",
       " '71',\n",
       " '72',\n",
       " '73',\n",
       " '74',\n",
       " '75',\n",
       " '76',\n",
       " '77',\n",
       " '78',\n",
       " '79',\n",
       " '80',\n",
       " '81',\n",
       " '82',\n",
       " '83',\n",
       " '84',\n",
       " '85',\n",
       " '86',\n",
       " '87',\n",
       " '88',\n",
       " '89',\n",
       " '90',\n",
       " '91',\n",
       " '92',\n",
       " '93',\n",
       " '94',\n",
       " '95',\n",
       " '96',\n",
       " '97',\n",
       " '98',\n",
       " '99',\n",
       " '100']"
      ]
     },
     "execution_count": 33,
     "metadata": {},
     "output_type": "execute_result"
    }
   ],
   "source": [
    "ranking_rank1=doc.find_all(class_=\"rankings-block__pos-number\") #  Rank1 player ranking\n",
    "ranking=doc.find_all(class_=\"rankings-table__pos-number\") #  Rank2 to Rank100 player ranking\n",
    "Player_ranking(ranking_rank1,ranking)"
   ]
  },
  {
   "cell_type": "markdown",
   "metadata": {},
   "source": [
    "### Player Nation"
   ]
  },
  {
   "cell_type": "code",
   "execution_count": 34,
   "metadata": {},
   "outputs": [],
   "source": [
    "def Player_nation(rank1_nation,nation):\n",
    "    Nation=[]\n",
    "    Nation.append(rank1_nation[0].text.strip())\n",
    "    for i in range(len(nation)):\n",
    "      Nation.append(nation[i].text.strip())\n",
    "    return Nation"
   ]
  },
  {
   "cell_type": "code",
   "execution_count": 35,
   "metadata": {
    "scrolled": true
   },
   "outputs": [
    {
     "data": {
      "text/plain": [
       "['ENG',\n",
       " 'AUS',\n",
       " 'PAK',\n",
       " 'AUS',\n",
       " 'IND',\n",
       " 'NZ',\n",
       " 'AUS',\n",
       " 'SL',\n",
       " 'IND',\n",
       " 'ENG',\n",
       " 'NZ',\n",
       " 'IND',\n",
       " 'SA',\n",
       " 'BAN',\n",
       " 'AUS',\n",
       " 'SL',\n",
       " 'PAK',\n",
       " 'AUS',\n",
       " 'BAN',\n",
       " 'PAK',\n",
       " 'NZ',\n",
       " 'SL',\n",
       " 'IND',\n",
       " 'PAK',\n",
       " 'NZ',\n",
       " 'IND',\n",
       " 'ENG',\n",
       " 'WI',\n",
       " 'SA',\n",
       " 'NZ',\n",
       " 'PAK',\n",
       " 'ZIM',\n",
       " 'NZ',\n",
       " 'NZ',\n",
       " 'IND',\n",
       " 'IND',\n",
       " 'WI',\n",
       " 'IND',\n",
       " 'AUS',\n",
       " 'BAN',\n",
       " 'SL',\n",
       " 'BAN',\n",
       " 'IND',\n",
       " 'SA',\n",
       " 'ENG',\n",
       " 'SA',\n",
       " 'SA',\n",
       " 'PAK',\n",
       " 'SL',\n",
       " 'PAK',\n",
       " 'ZIM',\n",
       " 'WI',\n",
       " 'SL',\n",
       " 'WI',\n",
       " 'ENG',\n",
       " 'AUS',\n",
       " 'IND',\n",
       " 'SL',\n",
       " 'AUS',\n",
       " 'BAN',\n",
       " 'AFG',\n",
       " 'WI',\n",
       " 'IND',\n",
       " 'ENG',\n",
       " 'SA',\n",
       " 'PAK',\n",
       " 'PAK',\n",
       " 'SL',\n",
       " 'WI',\n",
       " 'ENG',\n",
       " 'AUS',\n",
       " 'BAN',\n",
       " 'AUS',\n",
       " 'WI',\n",
       " 'SL',\n",
       " 'WI',\n",
       " 'SA',\n",
       " 'IND',\n",
       " 'ZIM',\n",
       " 'SL',\n",
       " 'ENG',\n",
       " 'BAN',\n",
       " 'ENG',\n",
       " 'ENG',\n",
       " 'ENG',\n",
       " 'ENG',\n",
       " 'IND',\n",
       " 'AUS',\n",
       " 'AFG',\n",
       " 'SL',\n",
       " 'BAN',\n",
       " 'NZ',\n",
       " 'ENG',\n",
       " 'WI',\n",
       " 'AFG',\n",
       " 'PAK',\n",
       " 'WI',\n",
       " 'WI',\n",
       " 'AUS',\n",
       " 'WI']"
      ]
     },
     "execution_count": 35,
     "metadata": {},
     "output_type": "execute_result"
    }
   ],
   "source": [
    "rank1_nation = doc.find_all(class_=\"rankings-block__banner--nationality\")\n",
    "nation=doc.find_all(class_=\"table-body__logo-text\")\n",
    "Player_nation(rank1_nation,nation)"
   ]
  },
  {
   "cell_type": "markdown",
   "metadata": {},
   "source": [
    "### Player Ratings"
   ]
  },
  {
   "cell_type": "code",
   "execution_count": 36,
   "metadata": {},
   "outputs": [],
   "source": [
    "def Player_ratings(rating,rank1_rating):\n",
    "    Rating=[]\n",
    "    Rating.append(rank1_rating[0].text.strip())\n",
    "    for i in range(len(rating)):\n",
    "      Rating.append(rating[i].text.strip())\n",
    "    return Rating"
   ]
  },
  {
   "cell_type": "code",
   "execution_count": 37,
   "metadata": {},
   "outputs": [
    {
     "data": {
      "text/plain": [
       "['900',\n",
       " '885',\n",
       " '879',\n",
       " '848',\n",
       " '801',\n",
       " '786',\n",
       " '766',\n",
       " '748',\n",
       " '746',\n",
       " '716',\n",
       " '715',\n",
       " '714',\n",
       " '700',\n",
       " '694',\n",
       " '678',\n",
       " '673',\n",
       " '670',\n",
       " '667',\n",
       " '662',\n",
       " '657',\n",
       " '654',\n",
       " '654',\n",
       " '644',\n",
       " '631',\n",
       " '622',\n",
       " '622',\n",
       " '621',\n",
       " '619',\n",
       " '614',\n",
       " '613',\n",
       " '610',\n",
       " '603',\n",
       " '601',\n",
       " '594',\n",
       " '590',\n",
       " '585',\n",
       " '583',\n",
       " '577',\n",
       " '576',\n",
       " '572',\n",
       " '570',\n",
       " '570',\n",
       " '560',\n",
       " '556',\n",
       " '552',\n",
       " '551',\n",
       " '543',\n",
       " '536',\n",
       " '534',\n",
       " '523',\n",
       " '523',\n",
       " '516',\n",
       " '516',\n",
       " '511',\n",
       " '510',\n",
       " '502',\n",
       " '501',\n",
       " '500',\n",
       " '497',\n",
       " '488',\n",
       " '486',\n",
       " '486',\n",
       " '482',\n",
       " '476',\n",
       " '476',\n",
       " '465',\n",
       " '462',\n",
       " '461',\n",
       " '461',\n",
       " '457',\n",
       " '453',\n",
       " '449',\n",
       " '449',\n",
       " '444',\n",
       " '439',\n",
       " '439',\n",
       " '435',\n",
       " '433',\n",
       " '427',\n",
       " '419',\n",
       " '415',\n",
       " '410',\n",
       " '410',\n",
       " '407',\n",
       " '406',\n",
       " '403',\n",
       " '398',\n",
       " '398',\n",
       " '397',\n",
       " '396',\n",
       " '395',\n",
       " '386',\n",
       " '385',\n",
       " '385',\n",
       " '377',\n",
       " '369',\n",
       " '369',\n",
       " '369',\n",
       " '362',\n",
       " '354']"
      ]
     },
     "execution_count": 37,
     "metadata": {},
     "output_type": "execute_result"
    }
   ],
   "source": [
    "rating=doc.find_all(class_=\"table-body__cell rating\")\n",
    "rank1_rating = doc.find_all(class_=\"rankings-block__banner--rating\")\n",
    "Player_ratings(rating,rank1_rating)"
   ]
  },
  {
   "cell_type": "markdown",
   "metadata": {},
   "source": [
    "### Career Best"
   ]
  },
  {
   "cell_type": "code",
   "execution_count": 38,
   "metadata": {},
   "outputs": [],
   "source": [
    "def Career_best(career_best,career1_best):\n",
    "    Career_Best=[]\n",
    "    Career_Best.append(career1_best[0].text.strip())\n",
    "    for i in range(len(career_best)):\n",
    "      Career_Best.append(career_best[i].text.strip())\n",
    "    return Career_Best  # Displaying Top 25 Ranked player's CAREER BEST ratings and with which country the rating achieved"
   ]
  },
  {
   "cell_type": "code",
   "execution_count": 39,
   "metadata": {},
   "outputs": [
    {
     "data": {
      "text/plain": [
       "['923 v India, 05/07/2022',\n",
       " '936 v Pakistan, 08/03/2022',\n",
       " '879 v Sri Lanka, 28/07/2022',\n",
       " '947 v England, 08/01/2018',\n",
       " '801 v England, 05/07/2022',\n",
       " '919 v Pakistan, 07/01/2021',\n",
       " '779 v Sri Lanka, 03/07/2022',\n",
       " '782 v Australia, 12/07/2022',\n",
       " '813 v England, 06/09/2021',\n",
       " '772 v South Africa, 07/08/2017',\n",
       " '715 v England, 27/06/2022',\n",
       " '937 v England, 22/08/2018',\n",
       " '784 v Australia, 03/04/2018',\n",
       " '724 v Sri Lanka, 27/05/2022',\n",
       " '773 v England, 18/01/2022',\n",
       " '755 v West Indies, 18/06/2018',\n",
       " '700 v Australia, 16/03/2022',\n",
       " '880 v India, 13/12/2014',\n",
       " '675 v Sri Lanka, 27/05/2022',\n",
       " '671 v Sri Lanka, 20/07/2022',\n",
       " '654 v England, 27/06/2022',\n",
       " '877 v New Zealand, 30/12/2015',\n",
       " '727 v New Zealand, 25/02/2020',\n",
       " '787 v Australia, 30/12/2016',\n",
       " '733 v West Indies, 07/12/2020',\n",
       " '888 v Sri Lanka, 07/08/2017',\n",
       " '827 v West Indies, 20/07/2020',\n",
       " '701 v England, 29/08/2017',\n",
       " '627 v Pakistan, 07/01/2019',\n",
       " '778 v Bangladesh, 12/03/2019',\n",
       " '643 v Bangladesh, 30/11/2021',\n",
       " '621 v Afghanistan, 14/03/2021',\n",
       " '613 v England, 06/06/2022',\n",
       " '661 v South Africa, 01/03/2022',\n",
       " '590 v England, 05/07/2022',\n",
       " '585 v England, 05/07/2022',\n",
       " '596 v Bangladesh, 07/02/2021',\n",
       " '825 v New Zealand, 11/10/2016',\n",
       " '607 v Sri Lanka, 03/07/2022',\n",
       " '709 v Australia, 30/08/2017',\n",
       " '636 v West Indies, 03/12/2021',\n",
       " '694 v Australia, 30/08/2017',\n",
       " '761 v Sri Lanka, 14/08/2017',\n",
       " '597 v India, 15/01/2022',\n",
       " '564 v Pakistan, 08/08/2020',\n",
       " '759 v Australia, 03/04/2018',\n",
       " '557 v New Zealand, 01/03/2022',\n",
       " '648 v Australia, 08/03/2022',\n",
       " '595 v Zimbabwe, 23/01/2020',\n",
       " '523 v Sri Lanka, 28/07/2022',\n",
       " '547 v West Indies, 02/11/2017',\n",
       " '631 v England, 12/03/2022',\n",
       " '693 v West Indies, 18/06/2018',\n",
       " '526 v Sri Lanka, 02/04/2021',\n",
       " '661 v West Indies, 28/07/2020',\n",
       " '592 v India, 20/12/2020',\n",
       " '601 v West Indies, 02/09/2019',\n",
       " '509 v Pakistan, 23/12/2019',\n",
       " '497 v Sri Lanka, 12/07/2022',\n",
       " '574 v New Zealand, 12/03/2019',\n",
       " '486 v Zimbabwe, 14/03/2021',\n",
       " '581 v England, 26/01/2019',\n",
       " '562 v England, 09/02/2021',\n",
       " '649 v Sri Lanka, 26/01/2021',\n",
       " '476 v England, 21/08/2022',\n",
       " '547 v South Africa, 08/02/2021',\n",
       " '653 v England, 08/08/2020',\n",
       " '519 v India, 08/03/2022',\n",
       " '484 v England, 28/03/2022',\n",
       " '605 v Pakistan, 25/08/2020',\n",
       " '537 v India, 30/12/2021',\n",
       " '661 v Pakistan, 10/05/2015',\n",
       " '575 v New Zealand, 24/02/2016',\n",
       " '562 v England, 12/07/2020',\n",
       " '559 v South Africa, 23/02/2019',\n",
       " '448 v New Zealand, 15/12/2020',\n",
       " '456 v New Zealand, 01/03/2022',\n",
       " '494 v England, 10/03/2021',\n",
       " '435 v Pakistan, 11/05/2021',\n",
       " '498 v Bangladesh, 03/05/2021',\n",
       " '575 v West Indies, 20/07/2020',\n",
       " '410 v West Indies, 28/06/2022',\n",
       " '418 v New Zealand, 27/06/2022',\n",
       " '407 v South Africa, 21/08/2022',\n",
       " '496 v India, 13/08/2018',\n",
       " '505 v Australia, 08/01/2018',\n",
       " '553 v England, 29/11/2016',\n",
       " '469 v Sri Lanka, 27/01/2019',\n",
       " '397 v Zimbabwe, 14/03/2021',\n",
       " '404 v Australia, 12/07/2022',\n",
       " '419 v South Africa, 04/04/2022',\n",
       " '472 v Bangladesh, 11/01/2022',\n",
       " '442 v West Indies, 20/03/2022',\n",
       " '653 v Zimbabwe, 25/10/2017',\n",
       " '471 v Bangladesh, 08/09/2019',\n",
       " '563 v New Zealand, 28/11/2018',\n",
       " '536 v England, 20/07/2020',\n",
       " '626 v Pakistan, 14/05/2017',\n",
       " '446 v India, 25/02/2017',\n",
       " '709 v Australia, 23/04/2012']"
      ]
     },
     "execution_count": 39,
     "metadata": {},
     "output_type": "execute_result"
    }
   ],
   "source": [
    "career_best = doc.find_all(class_=\"table-body__cell u-text-right u-hide-phablet\")\n",
    "career1_best=doc.find_all(class_=\"rankings-block__career-best-text\")\n",
    "Career_best(career_best,career1_best)"
   ]
  },
  {
   "cell_type": "markdown",
   "metadata": {},
   "source": [
    "## Creating a Data Frame using Pandas"
   ]
  },
  {
   "cell_type": "markdown",
   "metadata": {},
   "source": [
    "> Use of **Pandas**?\n",
    "\n",
    ">Pandas is a software library written for the Python programming language for data manipulation and analysis. \n",
    "In particular, it offers data structures and operations for manipulating numerical tables and time series.\n",
    "\n",
    "![](https://i.imgur.com/oDZnRhA.png)\n",
    "\n",
    "\n",
    ">What is a **DataFrame**?\n",
    "\n",
    ">A Pandas DataFrame is a 2 dimensional data structure, like a 2 dimensional array, or a table with rows and columns.\n",
    "DataFrame makes it easier for us to work with tablular data and analse it.\n",
    "\n"
   ]
  },
  {
   "cell_type": "code",
   "execution_count": 75,
   "metadata": {},
   "outputs": [],
   "source": [
    "import pandas as pd # Importing Pandas "
   ]
  },
  {
   "cell_type": "code",
   "execution_count": 76,
   "metadata": {},
   "outputs": [],
   "source": [
    "data_dict={}\n",
    "data_dict['Ranking']=Player_ranking(ranking_rank1,ranking)\n",
    "data_dict['Name']=Player_name(rank1_player_name,player_name)\n",
    "data_dict['Nation']=Player_nation(rank1_nation,nation)\n",
    "data_dict['Rating']=Player_ratings(rating,rank1_rating)\n",
    "data_dict['Career Best']= Career_best(career_best,career1_best)"
   ]
  },
  {
   "cell_type": "code",
   "execution_count": 77,
   "metadata": {},
   "outputs": [
    {
     "data": {
      "text/html": [
       "<div>\n",
       "<style scoped>\n",
       "    .dataframe tbody tr th:only-of-type {\n",
       "        vertical-align: middle;\n",
       "    }\n",
       "\n",
       "    .dataframe tbody tr th {\n",
       "        vertical-align: top;\n",
       "    }\n",
       "\n",
       "    .dataframe thead th {\n",
       "        text-align: right;\n",
       "    }\n",
       "</style>\n",
       "<table border=\"1\" class=\"dataframe\">\n",
       "  <thead>\n",
       "    <tr style=\"text-align: right;\">\n",
       "      <th></th>\n",
       "      <th>Name</th>\n",
       "      <th>Ranking</th>\n",
       "      <th>Nation</th>\n",
       "      <th>Rating</th>\n",
       "      <th>Career Best</th>\n",
       "    </tr>\n",
       "  </thead>\n",
       "  <tbody>\n",
       "    <tr>\n",
       "      <th>0</th>\n",
       "      <td>Joe Root</td>\n",
       "      <td>1</td>\n",
       "      <td>ENG</td>\n",
       "      <td>900</td>\n",
       "      <td>923 v India, 05/07/2022</td>\n",
       "    </tr>\n",
       "    <tr>\n",
       "      <th>1</th>\n",
       "      <td>Marnus Labuschagne</td>\n",
       "      <td>2</td>\n",
       "      <td>AUS</td>\n",
       "      <td>885</td>\n",
       "      <td>936 v Pakistan, 08/03/2022</td>\n",
       "    </tr>\n",
       "    <tr>\n",
       "      <th>2</th>\n",
       "      <td>Babar Azam</td>\n",
       "      <td>3</td>\n",
       "      <td>PAK</td>\n",
       "      <td>879</td>\n",
       "      <td>879 v Sri Lanka, 28/07/2022</td>\n",
       "    </tr>\n",
       "    <tr>\n",
       "      <th>3</th>\n",
       "      <td>Steve Smith</td>\n",
       "      <td>4</td>\n",
       "      <td>AUS</td>\n",
       "      <td>848</td>\n",
       "      <td>947 v England, 08/01/2018</td>\n",
       "    </tr>\n",
       "    <tr>\n",
       "      <th>4</th>\n",
       "      <td>Rishabh Pant</td>\n",
       "      <td>5</td>\n",
       "      <td>IND</td>\n",
       "      <td>801</td>\n",
       "      <td>801 v England, 05/07/2022</td>\n",
       "    </tr>\n",
       "    <tr>\n",
       "      <th>...</th>\n",
       "      <td>...</td>\n",
       "      <td>...</td>\n",
       "      <td>...</td>\n",
       "      <td>...</td>\n",
       "      <td>...</td>\n",
       "    </tr>\n",
       "    <tr>\n",
       "      <th>95</th>\n",
       "      <td>Haris Sohail</td>\n",
       "      <td>96</td>\n",
       "      <td>PAK</td>\n",
       "      <td>369</td>\n",
       "      <td>563 v New Zealand, 28/11/2018</td>\n",
       "    </tr>\n",
       "    <tr>\n",
       "      <th>96</th>\n",
       "      <td>Shamarh Brooks</td>\n",
       "      <td>97</td>\n",
       "      <td>WI</td>\n",
       "      <td>369</td>\n",
       "      <td>536 v England, 20/07/2020</td>\n",
       "    </tr>\n",
       "    <tr>\n",
       "      <th>97</th>\n",
       "      <td>Roston Chase</td>\n",
       "      <td>98</td>\n",
       "      <td>WI</td>\n",
       "      <td>369</td>\n",
       "      <td>626 v Pakistan, 14/05/2017</td>\n",
       "    </tr>\n",
       "    <tr>\n",
       "      <th>98</th>\n",
       "      <td>Mitchell Starc</td>\n",
       "      <td>99</td>\n",
       "      <td>AUS</td>\n",
       "      <td>362</td>\n",
       "      <td>446 v India, 25/02/2017</td>\n",
       "    </tr>\n",
       "    <tr>\n",
       "      <th>99</th>\n",
       "      <td>Darren Bravo</td>\n",
       "      <td>100</td>\n",
       "      <td>WI</td>\n",
       "      <td>354</td>\n",
       "      <td>709 v Australia, 23/04/2012</td>\n",
       "    </tr>\n",
       "  </tbody>\n",
       "</table>\n",
       "<p>100 rows × 5 columns</p>\n",
       "</div>"
      ],
      "text/plain": [
       "                  Name Ranking Nation Rating                    Career Best\n",
       "0             Joe Root       1    ENG    900        923 v India, 05/07/2022\n",
       "1   Marnus Labuschagne       2    AUS    885     936 v Pakistan, 08/03/2022\n",
       "2           Babar Azam       3    PAK    879    879 v Sri Lanka, 28/07/2022\n",
       "3          Steve Smith       4    AUS    848      947 v England, 08/01/2018\n",
       "4         Rishabh Pant       5    IND    801      801 v England, 05/07/2022\n",
       "..                 ...     ...    ...    ...                            ...\n",
       "95        Haris Sohail      96    PAK    369  563 v New Zealand, 28/11/2018\n",
       "96      Shamarh Brooks      97     WI    369      536 v England, 20/07/2020\n",
       "97        Roston Chase      98     WI    369     626 v Pakistan, 14/05/2017\n",
       "98      Mitchell Starc      99    AUS    362        446 v India, 25/02/2017\n",
       "99        Darren Bravo     100     WI    354    709 v Australia, 23/04/2012\n",
       "\n",
       "[100 rows x 5 columns]"
      ]
     },
     "execution_count": 77,
     "metadata": {},
     "output_type": "execute_result"
    }
   ],
   "source": [
    "Players_df=pd.DataFrame.from_dict(data_dict)\n",
    "Players_df=Players_df.reindex(columns=['Name','Ranking','Nation','Rating','Career Best'])\n",
    "Players_df # First web page result by using Pandas"
   ]
  },
  {
   "cell_type": "markdown",
   "metadata": {},
   "source": [
    "- Firstly, we will create a Python Dictionary with the Player Name and other information that we have extracted till now."
   ]
  },
  {
   "cell_type": "markdown",
   "metadata": {},
   "source": [
    "We can see that the DataFrame consists of **100 items**, that is equal to the number of Players that we have on the page `Most ICC Test Men's ranking`.\n",
    "\n",
    "Therefore, we can be sure that we have extracted the complete information that we had intended to.\n",
    "\n",
    "![](https://i.imgur.com/cHMGPi0.png)\n"
   ]
  },
  {
   "cell_type": "markdown",
   "metadata": {},
   "source": [
    "- We have finally created the Data Frame which contains Player **Names, Ranking, Nation, Ratings and Career Best**"
   ]
  },
  {
   "cell_type": "code",
   "execution_count": 78,
   "metadata": {},
   "outputs": [
    {
     "data": {
      "application/javascript": [
       "window.require && require([\"base/js/namespace\"],function(Jupyter){Jupyter.notebook.save_checkpoint()})"
      ],
      "text/plain": [
       "<IPython.core.display.Javascript object>"
      ]
     },
     "metadata": {},
     "output_type": "display_data"
    },
    {
     "name": "stdout",
     "output_type": "stream",
     "text": [
      "[jovian] Updating notebook \"jp-amith/web-scraping-project-final\" on https://jovian.ai\u001b[0m\n",
      "[jovian] Committed successfully! https://jovian.ai/jp-amith/web-scraping-project-final\u001b[0m\n"
     ]
    },
    {
     "data": {
      "text/plain": [
       "'https://jovian.ai/jp-amith/web-scraping-project-final'"
      ]
     },
     "execution_count": 78,
     "metadata": {},
     "output_type": "execute_result"
    }
   ],
   "source": [
    "jovian.commit()"
   ]
  },
  {
   "cell_type": "markdown",
   "metadata": {},
   "source": [
    "## Next Step "
   ]
  },
  {
   "cell_type": "markdown",
   "metadata": {},
   "source": [
    "#### Now, we will go into individual player profile page and extract the rest of the required information using the same procedure which we used for the first web page"
   ]
  },
  {
   "cell_type": "code",
   "execution_count": 79,
   "metadata": {},
   "outputs": [],
   "source": [
    "info_url='https://www.icc-cricket.com/rankings/mens/player-rankings/887'"
   ]
  },
  {
   "cell_type": "code",
   "execution_count": 80,
   "metadata": {},
   "outputs": [
    {
     "data": {
      "text/plain": [
       "200"
      ]
     },
     "execution_count": 80,
     "metadata": {},
     "output_type": "execute_result"
    }
   ],
   "source": [
    "player_info = info_url  #To get information of the first player in the ranking table\n",
    "response = requests.get(player_info)\n",
    "response.status_code"
   ]
  },
  {
   "cell_type": "code",
   "execution_count": 81,
   "metadata": {},
   "outputs": [
    {
     "data": {
      "text/plain": [
       "136998"
      ]
     },
     "execution_count": 81,
     "metadata": {},
     "output_type": "execute_result"
    }
   ],
   "source": [
    "player_info=response.text\n",
    "len(response.text)"
   ]
  },
  {
   "cell_type": "code",
   "execution_count": 82,
   "metadata": {},
   "outputs": [
    {
     "data": {
      "text/plain": [
       "'<!DOCTYPE html>\\n<html lang=\"en\">\\n<head>\\n\\n    <meta name=\"twitter:title\" content=\"ICC Profile - Stats, Ranking & Info\"/>\\n<meta property=\"og:type\" content=\"website\"/>\\n<meta property=\"twitter:card\" content=\"summary_large_image\"/>\\n<meta name=\"description\" content=\"Official ICC Cricket website - live matches, scores, news, highlights, commentary, rankings, videos and fixtures from the International Cricket Council.\"/>\\n<meta property=\"twitter:site\" content=\"@icc\"/>\\n<meta name=\"twitter:description\" content=\"Official ICC Cricket website - live matches, scores, news, highlights, commentary, rankings, videos and fixtures from the International Cricket Council.\"/>\\n<meta name=\"twitter:image\" content=\"https://www.icc-cricket.com/resources/ver/i/elements/default-thumbnail.jpg\"/>\\n<meta property=\"og:title\" content=\"ICC Profile - Stats, Ranking & Info\"/>\\n<meta property=\"og:image\" content=\"https://www.icc-cricket.com/resources/ver/i/elements/default-thumbnail.jpg\"/>\\n<title>ICC Profile - Stats, Ranking &'"
      ]
     },
     "execution_count": 82,
     "metadata": {},
     "output_type": "execute_result"
    }
   ],
   "source": [
    "response.text[:1000]"
   ]
  },
  {
   "cell_type": "code",
   "execution_count": 83,
   "metadata": {},
   "outputs": [],
   "source": [
    "with open ('player_info.html', 'w') as f: f.write(page_contents)"
   ]
  },
  {
   "cell_type": "code",
   "execution_count": 84,
   "metadata": {},
   "outputs": [],
   "source": [
    "!pip install beautifulsoup4 --quiet --upgrade\n",
    "\n",
    "from bs4 import BeautifulSoup\n",
    "doc2 = BeautifulSoup(player_info, 'html.parser')"
   ]
  },
  {
   "cell_type": "code",
   "execution_count": 85,
   "metadata": {},
   "outputs": [
    {
     "data": {
      "text/plain": [
       "bs4.BeautifulSoup"
      ]
     },
     "execution_count": 85,
     "metadata": {},
     "output_type": "execute_result"
    }
   ],
   "source": [
    "type(doc2)"
   ]
  },
  {
   "cell_type": "code",
   "execution_count": 86,
   "metadata": {},
   "outputs": [
    {
     "data": {
      "text/plain": [
       "'ICC Profile - Stats, Ranking & Info'"
      ]
     },
     "execution_count": 86,
     "metadata": {},
     "output_type": "execute_result"
    }
   ],
   "source": [
    "title = doc2.find('title')\n",
    "title.text"
   ]
  },
  {
   "cell_type": "code",
   "execution_count": 87,
   "metadata": {
    "scrolled": false
   },
   "outputs": [
    {
     "data": {
      "text/plain": [
       "'<!DOCTYPE html>\\n<html lang=\"en\">\\n<head>\\n\\n    <meta name=\"twitter:title\" content=\"ICC Profile - Stats, Ranking & Info\"/>\\n<meta property=\"og:type\" content=\"website\"/>\\n<meta property=\"twitter:card\" content=\"summary_large_image\"/>\\n<meta name=\"description\" content=\"Official ICC Cricket website - live matches, scores, news, highlights, commentary, rankings, videos and fixtures from the International Cricket Council.\"/>\\n<meta property=\"twitter:site\" content=\"@icc\"/>\\n<meta name=\"twitter:description\" content=\"Official ICC Cricket website - live matches, scores, news, highlights, commentary, rankings, videos and fixtures from the International Cricket Council.\"/>\\n<meta name=\"twitter:image\" content=\"https://www.icc-cricket.com/resources/ver/i/elements/default-thumbnail.jpg\"/>\\n<meta property=\"og:title\" content=\"ICC Profile - Stats, Ranking & Info\"/>\\n<meta property=\"og:image\" content=\"https://www.icc-cricket.com/resources/ver/i/elements/default-thumbnail.jpg\"/>\\n<title>ICC Profile - Stats, Ranking &'"
      ]
     },
     "execution_count": 87,
     "metadata": {},
     "output_type": "execute_result"
    }
   ],
   "source": [
    "player_info[:1000]"
   ]
  },
  {
   "cell_type": "code",
   "execution_count": 88,
   "metadata": {},
   "outputs": [],
   "source": [
    "link=doc2.span"
   ]
  },
  {
   "cell_type": "code",
   "execution_count": 89,
   "metadata": {},
   "outputs": [
    {
     "data": {
      "text/plain": [
       "['js-profile-completion-percentage']"
      ]
     },
     "execution_count": 89,
     "metadata": {},
     "output_type": "execute_result"
    }
   ],
   "source": [
    "link['class']"
   ]
  },
  {
   "cell_type": "code",
   "execution_count": 90,
   "metadata": {},
   "outputs": [
    {
     "data": {
      "text/plain": [
       "{'class': ['js-profile-completion-percentage']}"
      ]
     },
     "execution_count": 90,
     "metadata": {},
     "output_type": "execute_result"
    }
   ],
   "source": [
    "link.attrs"
   ]
  },
  {
   "cell_type": "code",
   "execution_count": 91,
   "metadata": {},
   "outputs": [],
   "source": [
    "tag=doc2.find_all('span')"
   ]
  },
  {
   "cell_type": "code",
   "execution_count": 92,
   "metadata": {},
   "outputs": [
    {
     "data": {
      "text/plain": [
       "86"
      ]
     },
     "execution_count": 92,
     "metadata": {},
     "output_type": "execute_result"
    }
   ],
   "source": [
    "len(tag)"
   ]
  },
  {
   "cell_type": "markdown",
   "metadata": {},
   "source": [
    "### Player Date of Birth"
   ]
  },
  {
   "cell_type": "code",
   "execution_count": 93,
   "metadata": {},
   "outputs": [],
   "source": [
    "Name=[]\n",
    "innerp=[]\n",
    "inner1=doc.find_all(class_=\"rankings-block__player-image-container rankings-block__player-image-container--large\")\n",
    "innerp.append([rank1_player_name[0].text.strip(),inner1[0].find('a').get('href')])\n",
    "Name.append(rank1_player_name[0].text.strip())"
   ]
  },
  {
   "cell_type": "code",
   "execution_count": 94,
   "metadata": {},
   "outputs": [
    {
     "data": {
      "text/plain": [
       "[['Joe Root', '/rankings/mens/player-rankings/887'],\n",
       " ['Marnus Labuschagne', '/rankings/mens/player-rankings/4029'],\n",
       " ['Babar Azam', '/rankings/mens/player-rankings/2759'],\n",
       " ['Steve Smith', '/rankings/mens/player-rankings/271'],\n",
       " ['Rishabh Pant', '/rankings/mens/player-rankings/2972'],\n",
       " ['Kane Williamson', '/rankings/mens/player-rankings/440'],\n",
       " ['Usman Khawaja', '/rankings/mens/player-rankings/948'],\n",
       " ['Dimuth Karunaratne', '/rankings/mens/player-rankings/954'],\n",
       " ['Rohit Sharma', '/rankings/mens/player-rankings/107'],\n",
       " ['Jonny Bairstow', '/rankings/mens/player-rankings/506'],\n",
       " ['Daryl Mitchell', '/rankings/mens/player-rankings/3642'],\n",
       " ['Virat Kohli', '/rankings/mens/player-rankings/164'],\n",
       " ['Dean Elgar', '/rankings/mens/player-rankings/652'],\n",
       " ['Litton Das', '/rankings/mens/player-rankings/1596'],\n",
       " ['Travis Head', '/rankings/mens/player-rankings/1020'],\n",
       " ['Dinesh Chandimal', '/rankings/mens/player-rankings/230'],\n",
       " ['Mohammad Rizwan', '/rankings/mens/player-rankings/1201'],\n",
       " ['David Warner', '/rankings/mens/player-rankings/170'],\n",
       " ['Mushfiqur Rahim', '/rankings/mens/player-rankings/491'],\n",
       " ['Abdullah Shafique', '/rankings/mens/player-rankings/'],\n",
       " ['Tom Blundell', '/rankings/mens/player-rankings/3743'],\n",
       " ['Angelo Mathews', '/rankings/mens/player-rankings/217'],\n",
       " ['Mayank Agarwal', '/rankings/mens/player-rankings/158'],\n",
       " ['Azhar Ali', '/rankings/mens/player-rankings/985'],\n",
       " ['Tom Latham', '/rankings/mens/player-rankings/1140'],\n",
       " ['Cheteshwar Pujara', '/rankings/mens/player-rankings/156'],\n",
       " ['Ben Stokes', '/rankings/mens/player-rankings/1154'],\n",
       " ['Kraigg Brathwaite', '/rankings/mens/player-rankings/1460'],\n",
       " ['Temba Bavuma', '/rankings/mens/player-rankings/833'],\n",
       " ['Henry Nicholls', '/rankings/mens/player-rankings/2890'],\n",
       " ['Abid Ali', '/rankings/mens/player-rankings/5314'],\n",
       " ['Sean Williams', '/rankings/mens/player-rankings/1102'],\n",
       " ['Colin de Grandhomme', '/rankings/mens/player-rankings/820'],\n",
       " ['Devon Conway', '/rankings/mens/player-rankings/'],\n",
       " ['Ravindra Jadeja', '/rankings/mens/player-rankings/9'],\n",
       " ['Shreyas Iyer', '/rankings/mens/player-rankings/1563'],\n",
       " ['Jermaine Blackwood', '/rankings/mens/player-rankings/1844'],\n",
       " ['Ajinkya Rahane', '/rankings/mens/player-rankings/135'],\n",
       " ['Cameron Green', '/rankings/mens/player-rankings/'],\n",
       " ['Tamim Iqbal', '/rankings/mens/player-rankings/287'],\n",
       " ['Dhananjaya de Silva', '/rankings/mens/player-rankings/1295'],\n",
       " ['Shakib Al Hasan', '/rankings/mens/player-rankings/201'],\n",
       " ['Lokesh Rahul', '/rankings/mens/player-rankings/1125'],\n",
       " ['Keegan Petersen', '/rankings/mens/player-rankings/'],\n",
       " ['Ollie Pope', '/rankings/mens/player-rankings/3636'],\n",
       " ['Aiden Markram', '/rankings/mens/player-rankings/1667'],\n",
       " ['Rassie van der Dussen', '/rankings/mens/player-rankings/1277'],\n",
       " ['Fawad Alam', '/rankings/mens/player-rankings/874'],\n",
       " ['Niroshan Dickwella', '/rankings/mens/player-rankings/1847'],\n",
       " ['Imam-ul-Haq', '/rankings/mens/player-rankings/1568'],\n",
       " ['Sikandar Raza', '/rankings/mens/player-rankings/1129'],\n",
       " ['Nkruma Bonner', '/rankings/mens/player-rankings/'],\n",
       " ['Kusal Mendis', '/rankings/mens/player-rankings/1670'],\n",
       " ['Kyle Mayers', '/rankings/mens/player-rankings/'],\n",
       " ['Rory Burns', '/rankings/mens/player-rankings/3631'],\n",
       " ['Tim Paine', '/rankings/mens/player-rankings/303'],\n",
       " ['Hanuma Vihari', '/rankings/mens/player-rankings/1117'],\n",
       " ['Oshada Fernando', '/rankings/mens/player-rankings/5569'],\n",
       " ['Alex Carey', '/rankings/mens/player-rankings/3882'],\n",
       " ['Mahmudullah', '/rankings/mens/player-rankings/492'],\n",
       " ['Ibrahim Zadran', '/rankings/mens/player-rankings/4822'],\n",
       " ['Jason Holder', '/rankings/mens/player-rankings/1075'],\n",
       " ['Shubman Gill', '/rankings/mens/player-rankings/'],\n",
       " ['Jos Buttler', '/rankings/mens/player-rankings/509'],\n",
       " ['Sarel Erwee', '/rankings/mens/player-rankings/'],\n",
       " ['Faheem Ashraf', '/rankings/mens/player-rankings/4208'],\n",
       " ['Shan Masood', '/rankings/mens/player-rankings/1305'],\n",
       " ['Pathum Nissanka', '/rankings/mens/player-rankings/'],\n",
       " ['Joshua Da Silva', '/rankings/mens/player-rankings/'],\n",
       " ['Zak Crawley', '/rankings/mens/player-rankings/4332'],\n",
       " ['Matthew Wade', '/rankings/mens/player-rankings/290'],\n",
       " ['Mominul Haque', '/rankings/mens/player-rankings/1130'],\n",
       " ['Joe Burns', '/rankings/mens/player-rankings/912'],\n",
       " ['Shane Dowrich', '/rankings/mens/player-rankings/1897'],\n",
       " ['Kusal Perera', '/rankings/mens/player-rankings/1738'],\n",
       " ['John Campbell', '/rankings/mens/player-rankings/4997'],\n",
       " ['Kyle Verreynne', '/rankings/mens/player-rankings/'],\n",
       " ['Washington Sundar', '/rankings/mens/player-rankings/2973'],\n",
       " ['Regis Chakabva', '/rankings/mens/player-rankings/1095'],\n",
       " ['Lahiru Thirimanne', '/rankings/mens/player-rankings/502'],\n",
       " ['Dom Sibley', '/rankings/mens/player-rankings/1551'],\n",
       " ['Nurul Hasan', '/rankings/mens/player-rankings/2895'],\n",
       " ['Jamie Overton', '/rankings/mens/player-rankings/'],\n",
       " ['Alex Lees', '/rankings/mens/player-rankings/'],\n",
       " ['Chris Woakes', '/rankings/mens/player-rankings/967'],\n",
       " ['Dawid Malan', '/rankings/mens/player-rankings/3318'],\n",
       " ['Ravichandran Ashwin', '/rankings/mens/player-rankings/8'],\n",
       " ['Marcus Harris', '/rankings/mens/player-rankings/3901'],\n",
       " ['Hashmatullah Shaidi', '/rankings/mens/player-rankings/2884'],\n",
       " ['Kamindu Mendis', '/rankings/mens/player-rankings/'],\n",
       " ['Nazmul Shanto', '/rankings/mens/player-rankings/1586'],\n",
       " ['Will Young', '/rankings/mens/player-rankings/'],\n",
       " ['Dan Lawrence', '/rankings/mens/player-rankings/'],\n",
       " ['Shai Hope', '/rankings/mens/player-rankings/2751'],\n",
       " ['Rahmat Shah', '/rankings/mens/player-rankings/1250'],\n",
       " ['Haris Sohail', '/rankings/mens/player-rankings/855'],\n",
       " ['Shamarh Brooks', '/rankings/mens/player-rankings/4998'],\n",
       " ['Roston Chase', '/rankings/mens/player-rankings/3321'],\n",
       " ['Mitchell Starc', '/rankings/mens/player-rankings/490'],\n",
       " ['Darren Bravo', '/rankings/mens/player-rankings/184']]"
      ]
     },
     "execution_count": 94,
     "metadata": {},
     "output_type": "execute_result"
    }
   ],
   "source": [
    "for i in range(len(player_name)):\n",
    "      Name.append(player_name[i].text.strip())\n",
    "      innerp.append([player_name[i].text.strip(),player_name[i].find('a').get('href')])\n",
    "innerp # To scrap more information from the 2nd web page we are found the html tags with different URLs "
   ]
  },
  {
   "cell_type": "code",
   "execution_count": 95,
   "metadata": {},
   "outputs": [],
   "source": [
    "Dateob=[]\n",
    "Role=[]\n",
    "style=[]\n",
    "for i in innerp:\n",
    "  url=\"https://www.icc-cricket.com\"+i[1]\n",
    "  response=requests.get(url)\n",
    "  soup=bs(response.content,\"html.parser\")\n",
    "  dob=soup.find_all(class_=\"rankings-player-bio__entry\")\n",
    "  if dob :\n",
    "    Dateob.append(dob[0].text)\n",
    "    Role.append(dob[1].text)\n",
    "    style.append(dob[2].text)\n",
    "  else:\n",
    "    Dateob.append(\"NA\")\n",
    "    Role.append(\"NA\")\n",
    "    style.append(\"NA\")\n",
    "dic2={}"
   ]
  },
  {
   "cell_type": "code",
   "execution_count": 96,
   "metadata": {},
   "outputs": [],
   "source": [
    "dic2['Dateofbirth']=Dateob #To collect the Date of Birth of each players"
   ]
  },
  {
   "cell_type": "code",
   "execution_count": 97,
   "metadata": {},
   "outputs": [
    {
     "data": {
      "text/plain": [
       "['30 December 1990',\n",
       " '22 June 1994',\n",
       " '15 October 1994',\n",
       " '02 June 1989',\n",
       " '04 October 1997',\n",
       " '08 August 1990',\n",
       " '18 December 1986',\n",
       " '21 April 1988',\n",
       " '30 April 1987',\n",
       " '26 September 1989',\n",
       " '25 November 1983',\n",
       " '05 November 1988',\n",
       " '11 June 1987',\n",
       " '13 October 1994',\n",
       " '29 December 1993',\n",
       " '18 November 1989',\n",
       " '01 June 1992',\n",
       " '27 October 1986',\n",
       " '09 May 1987',\n",
       " 'NA',\n",
       " '01 September 1990',\n",
       " '02 June 1987',\n",
       " '18 February 1991',\n",
       " '19 February 1985',\n",
       " '02 April 1992',\n",
       " '25 January 1988',\n",
       " '04 June 1991',\n",
       " '01 December 1992',\n",
       " '17 May 1990',\n",
       " '15 November 1991',\n",
       " '16 October 1987',\n",
       " '26 September 1986',\n",
       " '22 July 1986',\n",
       " 'NA',\n",
       " '06 December 1988',\n",
       " '06 December 1994',\n",
       " '20 November 1991',\n",
       " '06 June 1988',\n",
       " 'NA',\n",
       " '20 March 1989',\n",
       " '06 September 1991',\n",
       " '24 March 1987',\n",
       " '18 April 1992',\n",
       " 'NA',\n",
       " '02 January 1998',\n",
       " '04 October 1994',\n",
       " '07 February 1989',\n",
       " '08 October 1985',\n",
       " '23 June 1993',\n",
       " '12 December 1995',\n",
       " '24 April 1986',\n",
       " 'NA',\n",
       " '02 February 1995',\n",
       " 'NA',\n",
       " '26 August 1990',\n",
       " '08 December 1984',\n",
       " '13 October 1993',\n",
       " '15 April 1992',\n",
       " '27 August 1991',\n",
       " '04 February 1986',\n",
       " '12 December 2001',\n",
       " '05 November 1991',\n",
       " 'NA',\n",
       " '08 September 1990',\n",
       " 'NA',\n",
       " '16 January 1994',\n",
       " '14 October 1989',\n",
       " 'NA',\n",
       " 'NA',\n",
       " '03 February 1998',\n",
       " '26 December 1987',\n",
       " '29 September 1991',\n",
       " '06 September 1989',\n",
       " '30 October 1991',\n",
       " '17 August 1990',\n",
       " '21 September 1993',\n",
       " 'NA',\n",
       " '05 October 1999',\n",
       " '20 September 1987',\n",
       " '09 August 1989',\n",
       " '05 September 1995',\n",
       " '21 November 1993',\n",
       " 'NA',\n",
       " 'NA',\n",
       " '02 March 1989',\n",
       " '03 September 1987',\n",
       " '17 September 1986',\n",
       " '21 July 1992',\n",
       " '04 November 1994',\n",
       " 'NA',\n",
       " '25 August 1998',\n",
       " 'NA',\n",
       " 'NA',\n",
       " '10 November 1993',\n",
       " '06 July 1993',\n",
       " '09 January 1989',\n",
       " '01 October 1988',\n",
       " '22 March 1992',\n",
       " '30 January 1990',\n",
       " '06 February 1989']"
      ]
     },
     "execution_count": 97,
     "metadata": {},
     "output_type": "execute_result"
    }
   ],
   "source": [
    "Dateob"
   ]
  },
  {
   "cell_type": "markdown",
   "metadata": {},
   "source": [
    "### Player Role"
   ]
  },
  {
   "cell_type": "code",
   "execution_count": 98,
   "metadata": {},
   "outputs": [],
   "source": [
    "dic2['Role']=Role"
   ]
  },
  {
   "cell_type": "code",
   "execution_count": 99,
   "metadata": {},
   "outputs": [
    {
     "data": {
      "text/plain": [
       "['Batter',\n",
       " 'Batter',\n",
       " 'Batter',\n",
       " 'Batter',\n",
       " 'Wicket-keeper',\n",
       " 'Batter',\n",
       " 'Batter',\n",
       " 'Batter',\n",
       " 'Batter',\n",
       " 'Batter',\n",
       " '-',\n",
       " 'Batter',\n",
       " 'Batter',\n",
       " 'Wicket-keeper',\n",
       " 'Batter',\n",
       " 'Batter',\n",
       " 'Wicket-keeper',\n",
       " 'Batter',\n",
       " 'Batter',\n",
       " 'NA',\n",
       " 'Wicket-keeper',\n",
       " 'All-rounder',\n",
       " 'Batter',\n",
       " 'Batter',\n",
       " 'Batter',\n",
       " 'Batter',\n",
       " 'All-rounder',\n",
       " 'Batter',\n",
       " 'Batter',\n",
       " 'Batter',\n",
       " 'Batter',\n",
       " 'Batter',\n",
       " 'All-rounder',\n",
       " 'NA',\n",
       " 'All-rounder',\n",
       " 'Batter',\n",
       " 'Batter',\n",
       " 'Batter',\n",
       " 'NA',\n",
       " 'Batter',\n",
       " 'All-rounder',\n",
       " 'All-rounder',\n",
       " 'Batter',\n",
       " 'NA',\n",
       " 'Batter',\n",
       " 'Batter',\n",
       " 'Batter',\n",
       " '-',\n",
       " 'Wicket-keeper',\n",
       " 'Batter',\n",
       " 'All-rounder',\n",
       " 'NA',\n",
       " 'Batter',\n",
       " 'NA',\n",
       " 'Batter',\n",
       " 'Wicket-keeper',\n",
       " 'Batter',\n",
       " 'Batter',\n",
       " 'Wicket-keeper',\n",
       " 'All-rounder',\n",
       " 'Batter',\n",
       " 'All-rounder',\n",
       " 'NA',\n",
       " 'Wicket-keeper',\n",
       " 'NA',\n",
       " 'Bowler',\n",
       " 'Batter',\n",
       " 'NA',\n",
       " 'NA',\n",
       " 'Batter',\n",
       " 'Wicket-keeper',\n",
       " 'Batter',\n",
       " 'Batter',\n",
       " 'Wicket-keeper',\n",
       " 'Wicket-keeper',\n",
       " 'Batter',\n",
       " 'NA',\n",
       " '-',\n",
       " 'Wicket-keeper',\n",
       " 'Batter',\n",
       " 'Batter',\n",
       " '-',\n",
       " 'NA',\n",
       " 'NA',\n",
       " 'All-rounder',\n",
       " 'Batter',\n",
       " 'Bowler',\n",
       " 'Batter',\n",
       " 'Batter',\n",
       " 'NA',\n",
       " 'Batter',\n",
       " 'NA',\n",
       " 'NA',\n",
       " 'Batter',\n",
       " 'Batter',\n",
       " 'Batter',\n",
       " 'Batter',\n",
       " 'All-rounder',\n",
       " 'Bowler',\n",
       " 'Batter']"
      ]
     },
     "execution_count": 99,
     "metadata": {},
     "output_type": "execute_result"
    }
   ],
   "source": [
    "Role"
   ]
  },
  {
   "cell_type": "markdown",
   "metadata": {},
   "source": [
    "### Player Batting Style"
   ]
  },
  {
   "cell_type": "code",
   "execution_count": 100,
   "metadata": {},
   "outputs": [],
   "source": [
    "dic2['style']=style"
   ]
  },
  {
   "cell_type": "code",
   "execution_count": 101,
   "metadata": {
    "scrolled": true
   },
   "outputs": [
    {
     "data": {
      "text/plain": [
       "['Right Hand',\n",
       " 'Right Hand',\n",
       " 'Right Hand',\n",
       " 'Right Hand',\n",
       " 'Left Hand',\n",
       " 'Right Hand',\n",
       " 'Left Hand',\n",
       " 'Left Hand',\n",
       " 'Right Hand',\n",
       " 'Right Hand',\n",
       " 'Right Hand',\n",
       " 'Right Hand',\n",
       " 'Left Hand',\n",
       " 'Right Hand',\n",
       " 'Left Hand',\n",
       " 'Right Hand',\n",
       " 'Right Hand',\n",
       " 'Left Hand',\n",
       " 'Right Hand',\n",
       " 'NA',\n",
       " 'Right Hand',\n",
       " 'Right Hand',\n",
       " 'Right Hand',\n",
       " 'Right Hand',\n",
       " 'Left Hand',\n",
       " 'Right Hand',\n",
       " 'Left Hand',\n",
       " 'Right Hand',\n",
       " 'Right Hand',\n",
       " 'Left Hand',\n",
       " 'Right Hand',\n",
       " 'Left Hand',\n",
       " 'Right Hand',\n",
       " 'NA',\n",
       " 'Left Hand',\n",
       " 'Right Hand',\n",
       " 'Right Hand',\n",
       " 'Right Hand',\n",
       " 'NA',\n",
       " 'Left Hand',\n",
       " 'Right Hand',\n",
       " 'Left Hand',\n",
       " 'Right Hand',\n",
       " 'NA',\n",
       " 'Right Hand',\n",
       " 'Right Hand',\n",
       " 'Right Hand',\n",
       " 'Left Hand',\n",
       " 'Left Hand',\n",
       " 'Left Hand',\n",
       " 'Right Hand',\n",
       " 'NA',\n",
       " 'Right Hand',\n",
       " 'NA',\n",
       " 'Left Hand',\n",
       " 'Right Hand',\n",
       " 'Right Hand',\n",
       " 'Right Hand',\n",
       " 'Left Hand',\n",
       " 'Right Hand',\n",
       " 'Right Hand',\n",
       " 'Right Hand',\n",
       " 'NA',\n",
       " 'Right Hand',\n",
       " 'NA',\n",
       " 'Left Hand',\n",
       " 'Left Hand',\n",
       " 'NA',\n",
       " 'NA',\n",
       " 'Right Hand',\n",
       " 'Left Hand',\n",
       " 'Left Hand',\n",
       " 'Right Hand',\n",
       " 'Right Hand',\n",
       " 'Left Hand',\n",
       " 'Left Hand',\n",
       " 'NA',\n",
       " 'Left Hand',\n",
       " 'Right Hand',\n",
       " 'Left Hand',\n",
       " 'Right Hand',\n",
       " 'Right Hand',\n",
       " 'NA',\n",
       " 'NA',\n",
       " 'Right Hand',\n",
       " 'Left Hand',\n",
       " 'Right Hand',\n",
       " 'Left Hand',\n",
       " 'Left Hand',\n",
       " 'NA',\n",
       " 'Left Hand',\n",
       " 'NA',\n",
       " 'NA',\n",
       " 'Right Hand',\n",
       " 'Right Hand',\n",
       " 'Left Hand',\n",
       " 'Right Hand',\n",
       " 'Right Hand',\n",
       " 'Left Hand',\n",
       " 'Left Hand']"
      ]
     },
     "execution_count": 101,
     "metadata": {},
     "output_type": "execute_result"
    }
   ],
   "source": [
    "style"
   ]
  },
  {
   "cell_type": "markdown",
   "metadata": {},
   "source": [
    "### Let us write functions to combine what we have done above and get all the details at once for any given player URL"
   ]
  },
  {
   "cell_type": "code",
   "execution_count": 102,
   "metadata": {},
   "outputs": [],
   "source": [
    "def Player_name(rank1_player_name,player_name):\n",
    "    Name=[]\n",
    "    Name.append(rank1_player_name[0].text.strip())\n",
    "    for i in range(len(player_name)):\n",
    "      Name.append(player_name[i].text.strip())\n",
    "    return Name\n",
    "\n",
    "\n",
    "def Player_ranking(ranking_rank1,ranking):\n",
    "    Rank=[]\n",
    "    Rank.append(ranking_rank1[0].text.strip())\n",
    "    for i in range(len(ranking)):\n",
    "      Rank.append(ranking[i].text.strip())\n",
    "    return Rank\n",
    "\n",
    "\n",
    "def Player_nation(rank1_nation,nation):\n",
    "    Nation=[]\n",
    "    Nation.append(rank1_nation[0].text.strip())\n",
    "    for i in range(len(nation)):\n",
    "      Nation.append(nation[i].text.strip())\n",
    "    return Nation\n",
    "\n",
    "\n",
    "def Player_ratings(rating,rank1_rating):\n",
    "    Rating=[]\n",
    "    Rating.append(rank1_rating[0].text.strip())\n",
    "    for i in range(len(rating)):\n",
    "      Rating.append(rating[i].text.strip())\n",
    "    return Rating\n",
    "\n",
    "\n",
    "def Career_best(career_best,career1_best):\n",
    "    Career_Best=[]\n",
    "    Career_Best.append(career1_best[0].text.strip())\n",
    "    for i in range(len(career_best)):\n",
    "      Career_Best.append(career_best[i].text.strip())\n",
    "    return Career_Best"
   ]
  },
  {
   "cell_type": "code",
   "execution_count": 103,
   "metadata": {},
   "outputs": [],
   "source": [
    "def Player_Ranking_Info():\n",
    "    data_dict={}\n",
    "    data_dict['Ranking']=Player_ranking(ranking_rank1,ranking)\n",
    "    data_dict['Name']=Player_name(rank1_player_name,player_name)\n",
    "    data_dict['Nation']=Player_nation(rank1_nation,nation)\n",
    "    data_dict['Rating']=Player_ratings(rating,rank1_rating)\n",
    "    data_dict['Career Best']= Career_best(career_best,career1_best)\n",
    "    return data_dict"
   ]
  },
  {
   "cell_type": "code",
   "execution_count": 104,
   "metadata": {},
   "outputs": [],
   "source": [
    "def Player_Personal_Info(innerp):\n",
    "    \n",
    "    Dateob=[]\n",
    "    Role=[]\n",
    "    style=[]\n",
    "    for i in innerp:\n",
    "      url=\"https://www.icc-cricket.com\"+i[1]\n",
    "      response=requests.get(url)\n",
    "      soup=bs(response.content,\"html.parser\")\n",
    "      dob=soup.find_all(class_=\"rankings-player-bio__entry\")\n",
    "      if dob :\n",
    "        Dateob.append(dob[0].text)\n",
    "        Role.append(dob[1].text)\n",
    "        style.append(dob[2].text)\n",
    "      else:\n",
    "        Dateob.append(\"NA\")\n",
    "        Role.append(\"NA\")\n",
    "        style.append(\"NA\") \n",
    "    dic2={'Dateofbirth':Dateob,'Role':Role, 'style':style}\n",
    "    return dic2"
   ]
  },
  {
   "cell_type": "code",
   "execution_count": 105,
   "metadata": {},
   "outputs": [
    {
     "data": {
      "text/plain": [
       "{'Dateofbirth': ['30 December 1990',\n",
       "  '22 June 1994',\n",
       "  '15 October 1994',\n",
       "  '02 June 1989',\n",
       "  '04 October 1997',\n",
       "  '08 August 1990',\n",
       "  '18 December 1986',\n",
       "  '21 April 1988',\n",
       "  '30 April 1987',\n",
       "  '26 September 1989',\n",
       "  '25 November 1983',\n",
       "  '05 November 1988',\n",
       "  '11 June 1987',\n",
       "  '13 October 1994',\n",
       "  '29 December 1993',\n",
       "  '18 November 1989',\n",
       "  '01 June 1992',\n",
       "  '27 October 1986',\n",
       "  '09 May 1987',\n",
       "  'NA',\n",
       "  '01 September 1990',\n",
       "  '02 June 1987',\n",
       "  '18 February 1991',\n",
       "  '19 February 1985',\n",
       "  '02 April 1992',\n",
       "  '25 January 1988',\n",
       "  '04 June 1991',\n",
       "  '01 December 1992',\n",
       "  '17 May 1990',\n",
       "  '15 November 1991',\n",
       "  '16 October 1987',\n",
       "  '26 September 1986',\n",
       "  '22 July 1986',\n",
       "  'NA',\n",
       "  '06 December 1988',\n",
       "  '06 December 1994',\n",
       "  '20 November 1991',\n",
       "  '06 June 1988',\n",
       "  'NA',\n",
       "  '20 March 1989',\n",
       "  '06 September 1991',\n",
       "  '24 March 1987',\n",
       "  '18 April 1992',\n",
       "  'NA',\n",
       "  '02 January 1998',\n",
       "  '04 October 1994',\n",
       "  '07 February 1989',\n",
       "  '08 October 1985',\n",
       "  '23 June 1993',\n",
       "  '12 December 1995',\n",
       "  '24 April 1986',\n",
       "  'NA',\n",
       "  '02 February 1995',\n",
       "  'NA',\n",
       "  '26 August 1990',\n",
       "  '08 December 1984',\n",
       "  '13 October 1993',\n",
       "  '15 April 1992',\n",
       "  '27 August 1991',\n",
       "  '04 February 1986',\n",
       "  '12 December 2001',\n",
       "  '05 November 1991',\n",
       "  'NA',\n",
       "  '08 September 1990',\n",
       "  'NA',\n",
       "  '16 January 1994',\n",
       "  '14 October 1989',\n",
       "  'NA',\n",
       "  'NA',\n",
       "  '03 February 1998',\n",
       "  '26 December 1987',\n",
       "  '29 September 1991',\n",
       "  '06 September 1989',\n",
       "  '30 October 1991',\n",
       "  '17 August 1990',\n",
       "  '21 September 1993',\n",
       "  'NA',\n",
       "  '05 October 1999',\n",
       "  '20 September 1987',\n",
       "  '09 August 1989',\n",
       "  '05 September 1995',\n",
       "  '21 November 1993',\n",
       "  'NA',\n",
       "  'NA',\n",
       "  '02 March 1989',\n",
       "  '03 September 1987',\n",
       "  '17 September 1986',\n",
       "  '21 July 1992',\n",
       "  '04 November 1994',\n",
       "  'NA',\n",
       "  '25 August 1998',\n",
       "  'NA',\n",
       "  'NA',\n",
       "  '10 November 1993',\n",
       "  '06 July 1993',\n",
       "  '09 January 1989',\n",
       "  '01 October 1988',\n",
       "  '22 March 1992',\n",
       "  '30 January 1990',\n",
       "  '06 February 1989'],\n",
       " 'Role': ['Batter',\n",
       "  'Batter',\n",
       "  'Batter',\n",
       "  'Batter',\n",
       "  'Wicket-keeper',\n",
       "  'Batter',\n",
       "  'Batter',\n",
       "  'Batter',\n",
       "  'Batter',\n",
       "  'Batter',\n",
       "  '-',\n",
       "  'Batter',\n",
       "  'Batter',\n",
       "  'Wicket-keeper',\n",
       "  'Batter',\n",
       "  'Batter',\n",
       "  'Wicket-keeper',\n",
       "  'Batter',\n",
       "  'Batter',\n",
       "  'NA',\n",
       "  'Wicket-keeper',\n",
       "  'All-rounder',\n",
       "  'Batter',\n",
       "  'Batter',\n",
       "  'Batter',\n",
       "  'Batter',\n",
       "  'All-rounder',\n",
       "  'Batter',\n",
       "  'Batter',\n",
       "  'Batter',\n",
       "  'Batter',\n",
       "  'Batter',\n",
       "  'All-rounder',\n",
       "  'NA',\n",
       "  'All-rounder',\n",
       "  'Batter',\n",
       "  'Batter',\n",
       "  'Batter',\n",
       "  'NA',\n",
       "  'Batter',\n",
       "  'All-rounder',\n",
       "  'All-rounder',\n",
       "  'Batter',\n",
       "  'NA',\n",
       "  'Batter',\n",
       "  'Batter',\n",
       "  'Batter',\n",
       "  '-',\n",
       "  'Wicket-keeper',\n",
       "  'Batter',\n",
       "  'All-rounder',\n",
       "  'NA',\n",
       "  'Batter',\n",
       "  'NA',\n",
       "  'Batter',\n",
       "  'Wicket-keeper',\n",
       "  'Batter',\n",
       "  'Batter',\n",
       "  'Wicket-keeper',\n",
       "  'All-rounder',\n",
       "  'Batter',\n",
       "  'All-rounder',\n",
       "  'NA',\n",
       "  'Wicket-keeper',\n",
       "  'NA',\n",
       "  'Bowler',\n",
       "  'Batter',\n",
       "  'NA',\n",
       "  'NA',\n",
       "  'Batter',\n",
       "  'Wicket-keeper',\n",
       "  'Batter',\n",
       "  'Batter',\n",
       "  'Wicket-keeper',\n",
       "  'Wicket-keeper',\n",
       "  'Batter',\n",
       "  'NA',\n",
       "  '-',\n",
       "  'Wicket-keeper',\n",
       "  'Batter',\n",
       "  'Batter',\n",
       "  '-',\n",
       "  'NA',\n",
       "  'NA',\n",
       "  'All-rounder',\n",
       "  'Batter',\n",
       "  'Bowler',\n",
       "  'Batter',\n",
       "  'Batter',\n",
       "  'NA',\n",
       "  'Batter',\n",
       "  'NA',\n",
       "  'NA',\n",
       "  'Batter',\n",
       "  'Batter',\n",
       "  'Batter',\n",
       "  'Batter',\n",
       "  'All-rounder',\n",
       "  'Bowler',\n",
       "  'Batter'],\n",
       " 'style': ['Right Hand',\n",
       "  'Right Hand',\n",
       "  'Right Hand',\n",
       "  'Right Hand',\n",
       "  'Left Hand',\n",
       "  'Right Hand',\n",
       "  'Left Hand',\n",
       "  'Left Hand',\n",
       "  'Right Hand',\n",
       "  'Right Hand',\n",
       "  'Right Hand',\n",
       "  'Right Hand',\n",
       "  'Left Hand',\n",
       "  'Right Hand',\n",
       "  'Left Hand',\n",
       "  'Right Hand',\n",
       "  'Right Hand',\n",
       "  'Left Hand',\n",
       "  'Right Hand',\n",
       "  'NA',\n",
       "  'Right Hand',\n",
       "  'Right Hand',\n",
       "  'Right Hand',\n",
       "  'Right Hand',\n",
       "  'Left Hand',\n",
       "  'Right Hand',\n",
       "  'Left Hand',\n",
       "  'Right Hand',\n",
       "  'Right Hand',\n",
       "  'Left Hand',\n",
       "  'Right Hand',\n",
       "  'Left Hand',\n",
       "  'Right Hand',\n",
       "  'NA',\n",
       "  'Left Hand',\n",
       "  'Right Hand',\n",
       "  'Right Hand',\n",
       "  'Right Hand',\n",
       "  'NA',\n",
       "  'Left Hand',\n",
       "  'Right Hand',\n",
       "  'Left Hand',\n",
       "  'Right Hand',\n",
       "  'NA',\n",
       "  'Right Hand',\n",
       "  'Right Hand',\n",
       "  'Right Hand',\n",
       "  'Left Hand',\n",
       "  'Left Hand',\n",
       "  'Left Hand',\n",
       "  'Right Hand',\n",
       "  'NA',\n",
       "  'Right Hand',\n",
       "  'NA',\n",
       "  'Left Hand',\n",
       "  'Right Hand',\n",
       "  'Right Hand',\n",
       "  'Right Hand',\n",
       "  'Left Hand',\n",
       "  'Right Hand',\n",
       "  'Right Hand',\n",
       "  'Right Hand',\n",
       "  'NA',\n",
       "  'Right Hand',\n",
       "  'NA',\n",
       "  'Left Hand',\n",
       "  'Left Hand',\n",
       "  'NA',\n",
       "  'NA',\n",
       "  'Right Hand',\n",
       "  'Left Hand',\n",
       "  'Left Hand',\n",
       "  'Right Hand',\n",
       "  'Right Hand',\n",
       "  'Left Hand',\n",
       "  'Left Hand',\n",
       "  'NA',\n",
       "  'Left Hand',\n",
       "  'Right Hand',\n",
       "  'Left Hand',\n",
       "  'Right Hand',\n",
       "  'Right Hand',\n",
       "  'NA',\n",
       "  'NA',\n",
       "  'Right Hand',\n",
       "  'Left Hand',\n",
       "  'Right Hand',\n",
       "  'Left Hand',\n",
       "  'Left Hand',\n",
       "  'NA',\n",
       "  'Left Hand',\n",
       "  'NA',\n",
       "  'NA',\n",
       "  'Right Hand',\n",
       "  'Right Hand',\n",
       "  'Left Hand',\n",
       "  'Right Hand',\n",
       "  'Right Hand',\n",
       "  'Left Hand',\n",
       "  'Left Hand']}"
      ]
     },
     "execution_count": 105,
     "metadata": {},
     "output_type": "execute_result"
    }
   ],
   "source": [
    "Player_Personal_Info(innerp)"
   ]
  },
  {
   "cell_type": "markdown",
   "metadata": {},
   "source": [
    "#### Now that we have all the information from individual player Page and from the ICC player Ranking page, let us combine both the DataFrames into one single DataFrame* using the`concat` in pandas"
   ]
  },
  {
   "cell_type": "markdown",
   "metadata": {},
   "source": [
    "- Let us see what we have in the final DataFrame:"
   ]
  },
  {
   "cell_type": "code",
   "execution_count": 106,
   "metadata": {
    "scrolled": false
   },
   "outputs": [],
   "source": [
    "def Player_info():\n",
    "\n",
    "    data_dict= Player_Ranking_Info()\n",
    "    dict2=Player_Personal_Info(innerp)\n",
    "    df2=pd.DataFrame.from_dict(dic2)\n",
    "\n",
    "    Players_df=pd.DataFrame.from_dict(data_dict)\n",
    "    Players_df=Players_df.reindex(columns=['Name','Ranking','Nation','Rating','Career Best'])\n",
    "    Players_df # First web page result by using Pandas\n",
    "\n",
    "    df=pd.concat([Players_df,df2],axis=1)\n",
    "    return df"
   ]
  },
  {
   "cell_type": "code",
   "execution_count": 107,
   "metadata": {},
   "outputs": [
    {
     "data": {
      "text/html": [
       "<div>\n",
       "<style scoped>\n",
       "    .dataframe tbody tr th:only-of-type {\n",
       "        vertical-align: middle;\n",
       "    }\n",
       "\n",
       "    .dataframe tbody tr th {\n",
       "        vertical-align: top;\n",
       "    }\n",
       "\n",
       "    .dataframe thead th {\n",
       "        text-align: right;\n",
       "    }\n",
       "</style>\n",
       "<table border=\"1\" class=\"dataframe\">\n",
       "  <thead>\n",
       "    <tr style=\"text-align: right;\">\n",
       "      <th></th>\n",
       "      <th>Name</th>\n",
       "      <th>Ranking</th>\n",
       "      <th>Nation</th>\n",
       "      <th>Rating</th>\n",
       "      <th>Career Best</th>\n",
       "      <th>Dateofbirth</th>\n",
       "      <th>Role</th>\n",
       "      <th>style</th>\n",
       "    </tr>\n",
       "  </thead>\n",
       "  <tbody>\n",
       "    <tr>\n",
       "      <th>0</th>\n",
       "      <td>Joe Root</td>\n",
       "      <td>1</td>\n",
       "      <td>ENG</td>\n",
       "      <td>900</td>\n",
       "      <td>923 v India, 05/07/2022</td>\n",
       "      <td>30 December 1990</td>\n",
       "      <td>Batter</td>\n",
       "      <td>Right Hand</td>\n",
       "    </tr>\n",
       "    <tr>\n",
       "      <th>1</th>\n",
       "      <td>Marnus Labuschagne</td>\n",
       "      <td>2</td>\n",
       "      <td>AUS</td>\n",
       "      <td>885</td>\n",
       "      <td>936 v Pakistan, 08/03/2022</td>\n",
       "      <td>22 June 1994</td>\n",
       "      <td>Batter</td>\n",
       "      <td>Right Hand</td>\n",
       "    </tr>\n",
       "    <tr>\n",
       "      <th>2</th>\n",
       "      <td>Babar Azam</td>\n",
       "      <td>3</td>\n",
       "      <td>PAK</td>\n",
       "      <td>879</td>\n",
       "      <td>879 v Sri Lanka, 28/07/2022</td>\n",
       "      <td>15 October 1994</td>\n",
       "      <td>Batter</td>\n",
       "      <td>Right Hand</td>\n",
       "    </tr>\n",
       "    <tr>\n",
       "      <th>3</th>\n",
       "      <td>Steve Smith</td>\n",
       "      <td>4</td>\n",
       "      <td>AUS</td>\n",
       "      <td>848</td>\n",
       "      <td>947 v England, 08/01/2018</td>\n",
       "      <td>02 June 1989</td>\n",
       "      <td>Batter</td>\n",
       "      <td>Right Hand</td>\n",
       "    </tr>\n",
       "    <tr>\n",
       "      <th>4</th>\n",
       "      <td>Rishabh Pant</td>\n",
       "      <td>5</td>\n",
       "      <td>IND</td>\n",
       "      <td>801</td>\n",
       "      <td>801 v England, 05/07/2022</td>\n",
       "      <td>04 October 1997</td>\n",
       "      <td>Wicket-keeper</td>\n",
       "      <td>Left Hand</td>\n",
       "    </tr>\n",
       "    <tr>\n",
       "      <th>...</th>\n",
       "      <td>...</td>\n",
       "      <td>...</td>\n",
       "      <td>...</td>\n",
       "      <td>...</td>\n",
       "      <td>...</td>\n",
       "      <td>...</td>\n",
       "      <td>...</td>\n",
       "      <td>...</td>\n",
       "    </tr>\n",
       "    <tr>\n",
       "      <th>95</th>\n",
       "      <td>Haris Sohail</td>\n",
       "      <td>96</td>\n",
       "      <td>PAK</td>\n",
       "      <td>369</td>\n",
       "      <td>563 v New Zealand, 28/11/2018</td>\n",
       "      <td>09 January 1989</td>\n",
       "      <td>Batter</td>\n",
       "      <td>Left Hand</td>\n",
       "    </tr>\n",
       "    <tr>\n",
       "      <th>96</th>\n",
       "      <td>Shamarh Brooks</td>\n",
       "      <td>97</td>\n",
       "      <td>WI</td>\n",
       "      <td>369</td>\n",
       "      <td>536 v England, 20/07/2020</td>\n",
       "      <td>01 October 1988</td>\n",
       "      <td>Batter</td>\n",
       "      <td>Right Hand</td>\n",
       "    </tr>\n",
       "    <tr>\n",
       "      <th>97</th>\n",
       "      <td>Roston Chase</td>\n",
       "      <td>98</td>\n",
       "      <td>WI</td>\n",
       "      <td>369</td>\n",
       "      <td>626 v Pakistan, 14/05/2017</td>\n",
       "      <td>22 March 1992</td>\n",
       "      <td>All-rounder</td>\n",
       "      <td>Right Hand</td>\n",
       "    </tr>\n",
       "    <tr>\n",
       "      <th>98</th>\n",
       "      <td>Mitchell Starc</td>\n",
       "      <td>99</td>\n",
       "      <td>AUS</td>\n",
       "      <td>362</td>\n",
       "      <td>446 v India, 25/02/2017</td>\n",
       "      <td>30 January 1990</td>\n",
       "      <td>Bowler</td>\n",
       "      <td>Left Hand</td>\n",
       "    </tr>\n",
       "    <tr>\n",
       "      <th>99</th>\n",
       "      <td>Darren Bravo</td>\n",
       "      <td>100</td>\n",
       "      <td>WI</td>\n",
       "      <td>354</td>\n",
       "      <td>709 v Australia, 23/04/2012</td>\n",
       "      <td>06 February 1989</td>\n",
       "      <td>Batter</td>\n",
       "      <td>Left Hand</td>\n",
       "    </tr>\n",
       "  </tbody>\n",
       "</table>\n",
       "<p>100 rows × 8 columns</p>\n",
       "</div>"
      ],
      "text/plain": [
       "                  Name Ranking Nation Rating                    Career Best  \\\n",
       "0             Joe Root       1    ENG    900        923 v India, 05/07/2022   \n",
       "1   Marnus Labuschagne       2    AUS    885     936 v Pakistan, 08/03/2022   \n",
       "2           Babar Azam       3    PAK    879    879 v Sri Lanka, 28/07/2022   \n",
       "3          Steve Smith       4    AUS    848      947 v England, 08/01/2018   \n",
       "4         Rishabh Pant       5    IND    801      801 v England, 05/07/2022   \n",
       "..                 ...     ...    ...    ...                            ...   \n",
       "95        Haris Sohail      96    PAK    369  563 v New Zealand, 28/11/2018   \n",
       "96      Shamarh Brooks      97     WI    369      536 v England, 20/07/2020   \n",
       "97        Roston Chase      98     WI    369     626 v Pakistan, 14/05/2017   \n",
       "98      Mitchell Starc      99    AUS    362        446 v India, 25/02/2017   \n",
       "99        Darren Bravo     100     WI    354    709 v Australia, 23/04/2012   \n",
       "\n",
       "         Dateofbirth           Role       style  \n",
       "0   30 December 1990         Batter  Right Hand  \n",
       "1       22 June 1994         Batter  Right Hand  \n",
       "2    15 October 1994         Batter  Right Hand  \n",
       "3       02 June 1989         Batter  Right Hand  \n",
       "4    04 October 1997  Wicket-keeper   Left Hand  \n",
       "..               ...            ...         ...  \n",
       "95   09 January 1989         Batter   Left Hand  \n",
       "96   01 October 1988         Batter  Right Hand  \n",
       "97     22 March 1992    All-rounder  Right Hand  \n",
       "98   30 January 1990         Bowler   Left Hand  \n",
       "99  06 February 1989         Batter   Left Hand  \n",
       "\n",
       "[100 rows x 8 columns]"
      ]
     },
     "execution_count": 107,
     "metadata": {},
     "output_type": "execute_result"
    }
   ],
   "source": [
    "df=Player_info()\n",
    "Player_info()"
   ]
  },
  {
   "cell_type": "markdown",
   "metadata": {},
   "source": [
    "#### Our project goal is achieved successfully with the above required information!!"
   ]
  },
  {
   "cell_type": "code",
   "execution_count": null,
   "metadata": {},
   "outputs": [],
   "source": [
    "df.to_csv(\"Ranking_list.csv\",index=False)"
   ]
  },
  {
   "cell_type": "markdown",
   "metadata": {},
   "source": [
    "![](https://i.imgur.com/OwhLg4O.png)\n",
    "![](https://i.imgur.com/2mJ2Q53.png)"
   ]
  },
  {
   "cell_type": "markdown",
   "metadata": {},
   "source": [
    "Follow this guide for attaching files:https://jovian.ai/docs/user-guide/attach.html"
   ]
  },
  {
   "cell_type": "markdown",
   "metadata": {},
   "source": [
    "## Summary\n",
    "\n",
    "Finally, we have managed to `parse` 'ICC Top 100 Ranked Test Players-Batting' to get our hands on very **interesting and insightful data** when it comes to the International Cricket.  \n",
    "We have saved all the information we could extract from that website for our needs in a `CSV` file using which we can further get answers to a lot of questions we may want to ask, \n",
    "e.g - `Highest Ranking of 5th Ranked player?`\n",
    "      `Date of Birth and First test of a particular Player?`"
   ]
  },
  {
   "cell_type": "markdown",
   "metadata": {},
   "source": [
    "#### Let us look at the steps that we took from start to finish : \n",
    "\n",
    "1. We downloaded the webpage https://www.icc-cricket.com/rankings/mens/player-rankings/test/batting using `requests`  \n",
    "\n",
    "\n",
    "2. We `parsed` the HTML source code using `BeautifulSoup` library and extracted the desired infromation, i.e.\n",
    "\n",
    "* The names of 'Top 100 Ranked Men's cricket Batsmen'\n",
    "* Ranking of top 100 players we parsed before\n",
    "* Player's Nation\n",
    "* Player Ratings\n",
    "* Career Best Ratings\n",
    "\n",
    "\n",
    "3. We created a `DataFrame` using `Pandas` for `Python Lists` that we derived from the previous step\n",
    "\n",
    "\n",
    "4. We extracted detailed information for each player among the list of `Top 100 Ranked Test Players-Batting`, such as :\n",
    "* Player Name\n",
    "* Ranking \n",
    "* Nation\n",
    "* Ratings\n",
    "* Career Best\t\n",
    "* Date of Birth\n",
    "* Batting Style\n",
    "* Player Role\n",
    "\n",
    "\n",
    "5. We then created a `Python Dictionary` to save all these details.\n",
    "\n",
    "\n",
    "6. We converted the python dictionary into `Pandas DataFrames`.\n",
    "\n",
    "\n",
    "7. We merged `2 DataFrames`which we parsed into a single DataFrame.\n",
    "\n",
    "\n",
    "8. With one single DataFrame in hand, we then converted it into a single `CSV` file, which contains all our required infromation about the players to accomplish the goal of our project.\n",
    "\n"
   ]
  },
  {
   "cell_type": "markdown",
   "metadata": {},
   "source": [
    "## Future Work"
   ]
  },
  {
   "cell_type": "markdown",
   "metadata": {},
   "source": [
    "Now we can work forward to explore this data more and more to fetch many other information from this site.\n",
    "\n",
    "With all the insights , and further analysis into the data, we can have information such as \n",
    "\n",
    "- Men's Player Ranking Bowling and Batting in Test Match, One day International and T20 Cricket \n",
    "- Team Ranking and Player Rankings of both Men's and Women's in all International cricket formats such as Test, One Day International and T20.\n",
    "- Player comparison and player statistics in all cricket formats\n",
    "- We will get all the tables from each of the urls,\n",
    "And the list goes on..\n",
    "\n",
    ">In the future, I would like to work to make this DataSet even richer with more data from other lists created by  I would then like to work on analysing the entire data, to know a lot more about cricket players than I currently know. Also I would like to scrap more deatils of other Roles such us bowling and All-Rounders"
   ]
  },
  {
   "cell_type": "markdown",
   "metadata": {},
   "source": [
    "## References\n",
    "[1] Python offical documentation. https://docs.python.org/3/\n",
    "\n",
    "[2] Beautiful Soup documentation. https://www.crummy.com/software/BeautifulSoup/bs4/doc/\n",
    "\n",
    "[3] Aakash N S, Introduction to Web Scraping, 2021. https://jovian.ai/aakashns/python-web-scraping-and-rest-api\n",
    "\n",
    "[4] Pandas library documentation. https://pandas.pydata.org/docs/\n",
    "\n",
    "[5] ICC Official Website https://www.icc-cricket.com/rankings/mens/player-rankings/test/batting\n",
    "\n",
    "[6] Working with Jupyter Notebook https://www.youtube.com/watch?v=lNPofGL28lU and \n",
    "                                  https://towardsdatascience.com/write-markdown-latex-in-the-jupyter-notebook-10985edb91fd\n",
    "\n",
    "[7] HTML Tutorial for Beginners: HTML Crash Course https://www.youtube.com/watch?v=qz0aGYrrlhU\n",
    "\n",
    "[8] Web Scraping Article. https://www.toptal.com/python/web-scraping-with-python\n",
    "\n",
    "[9] Web Scraping Image. https://morioh.com/p/431153538ecb"
   ]
  },
  {
   "cell_type": "code",
   "execution_count": 74,
   "metadata": {
    "scrolled": true
   },
   "outputs": [
    {
     "data": {
      "text/plain": [
       "<function jovian.utils.commit.commit(message=None, files=[], outputs=[], environment=None, privacy='auto', filename=None, project=None, new_project=None, git_commit=False, git_message='auto', **kwargs)>"
      ]
     },
     "execution_count": 74,
     "metadata": {},
     "output_type": "execute_result"
    }
   ],
   "source": [
    "jovian.commit"
   ]
  }
 ],
 "metadata": {
  "language_info": {
   "codemirror_mode": {
    "name": "ipython",
    "version": 3
   },
   "file_extension": ".py",
   "mimetype": "text/x-python",
   "name": "python",
   "nbconvert_exporter": "python",
   "pygments_lexer": "ipython3",
   "version": "3.9.6"
  }
 },
 "nbformat": 4,
 "nbformat_minor": 2
}